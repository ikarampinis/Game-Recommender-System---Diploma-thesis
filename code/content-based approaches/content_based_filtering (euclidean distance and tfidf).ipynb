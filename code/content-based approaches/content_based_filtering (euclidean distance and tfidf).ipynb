{
 "cells": [
  {
   "cell_type": "markdown",
   "metadata": {},
   "source": [
    "# Content-based filtering with euclidean distance and TFIDF"
   ]
  },
  {
   "cell_type": "code",
   "execution_count": 1,
   "metadata": {},
   "outputs": [],
   "source": [
    "import pandas as pd \n",
    "import numpy as np\n",
    "#cosine similarity\n",
    "from sklearn.metrics.pairwise import euclidean_distances\n",
    "from sklearn.feature_extraction.text import TfidfVectorizer"
   ]
  },
  {
   "cell_type": "code",
   "execution_count": 2,
   "metadata": {},
   "outputs": [],
   "source": [
    "df_details=pd.read_csv('games_details_dataset.csv')"
   ]
  },
  {
   "cell_type": "code",
   "execution_count": 3,
   "metadata": {},
   "outputs": [],
   "source": [
    "user_games = [2620, 2630] #example game ids"
   ]
  },
  {
   "cell_type": "code",
   "execution_count": 4,
   "metadata": {},
   "outputs": [
    {
     "name": "stdout",
     "output_type": "stream",
     "text": [
      "Call of Duty\n",
      "Call of Duty 2\n"
     ]
    }
   ],
   "source": [
    "for i in range(df_details.shape[0]):\n",
    "    if df_details.iloc[i][\"appid\"] in user_games:\n",
    "        print(df_details.iloc[i][\"name\"])"
   ]
  },
  {
   "cell_type": "code",
   "execution_count": 5,
   "metadata": {},
   "outputs": [],
   "source": [
    "def specific_genre(chosen_genre):\n",
    "    remove_rows = []\n",
    "    for i in range(df_details.shape[0]):\n",
    "        if df_details.iloc[i][\"genre_new\"] != chosen_genre:\n",
    "            remove_rows.append(i)\n",
    "    df = df_details.drop(remove_rows, axis=0)\n",
    "    user_likes = []\n",
    "    for i in range(df.shape[0]):\n",
    "        if user_games.count(df.iloc[i][\"appid\"])>0:\n",
    "            user_likes.append(i)\n",
    "    return df, user_likes"
   ]
  },
  {
   "cell_type": "code",
   "execution_count": 6,
   "metadata": {},
   "outputs": [],
   "source": [
    "def specific_category(chosen_category):\n",
    "    remove_rows = []\n",
    "    for i in range(df_details.shape[0]):\n",
    "        if df_details.iloc[i][\"cat_new\"] != chosen_category:\n",
    "            remove_rows.append(i)\n",
    "    df = df_details.drop(remove_rows, axis=0)\n",
    "    user_likes = []\n",
    "    for i in range(df.shape[0]):\n",
    "        if user_games.count(df.iloc[i][\"appid\"])>0:\n",
    "            user_likes.append(i)\n",
    "    return df, user_likes"
   ]
  },
  {
   "cell_type": "code",
   "execution_count": 7,
   "metadata": {},
   "outputs": [],
   "source": [
    "def positive_votes():\n",
    "    remove_rows = []\n",
    "    for i in range(df_details.shape[0]):\n",
    "        if df_details.iloc[i][\"rating_sign\"] != \"positive\":\n",
    "            remove_rows.append(i)\n",
    "    df = df_details.drop(remove_rows, axis=0)\n",
    "    user_likes = []\n",
    "    for i in range(df.shape[0]):\n",
    "        if user_games.count(df.iloc[i][\"appid\"])>0:\n",
    "            user_likes.append(i)\n",
    "    return df, user_likes"
   ]
  },
  {
   "cell_type": "code",
   "execution_count": 8,
   "metadata": {},
   "outputs": [],
   "source": [
    "def more_playtime():\n",
    "    remove_rows = []\n",
    "    for i in range(df_details.shape[0]):\n",
    "        if df_details.iloc[i][\"playtime\"] != \"more\":\n",
    "            remove_rows.append(i)\n",
    "    df = df_details.drop(remove_rows, axis=0)\n",
    "    user_likes = []\n",
    "    for i in range(df.shape[0]):\n",
    "        if user_games.count(df.iloc[i][\"appid\"])>0:\n",
    "            user_likes.append(i)\n",
    "    return df, user_likes"
   ]
  },
  {
   "cell_type": "code",
   "execution_count": 9,
   "metadata": {},
   "outputs": [],
   "source": [
    "df, user_likes = specific_genre(\"action\")\n",
    "#df, user_likes = specific_category(\"multiplayer\")\n",
    "#df, user_likes = positive_votes()\n",
    "#df, user_likes = more_playtime()"
   ]
  },
  {
   "cell_type": "code",
   "execution_count": 10,
   "metadata": {},
   "outputs": [
    {
     "name": "stdout",
     "output_type": "stream",
     "text": [
      "Call of Duty\n",
      "Call of Duty 2\n"
     ]
    }
   ],
   "source": [
    "for i in range(df.shape[0]):\n",
    "    if i in user_likes:\n",
    "        print(df.iloc[i][\"name\"])"
   ]
  },
  {
   "cell_type": "markdown",
   "metadata": {},
   "source": [
    "## Euclidean distance"
   ]
  },
  {
   "cell_type": "markdown",
   "metadata": {},
   "source": [
    "### 1st approach"
   ]
  },
  {
   "cell_type": "markdown",
   "metadata": {},
   "source": [
    "We are using only the attributes: genre, categories and steam spy tags for cosine similarity."
   ]
  },
  {
   "cell_type": "code",
   "execution_count": 11,
   "metadata": {},
   "outputs": [],
   "source": [
    "def combined_features_one(row):\n",
    "    return row['genres'].replace(\";\",\" \").lower()+\" \"+row['categories'].replace(\";\",\" \").lower()+\" \"+row['steamspy_tags'].replace(\";\",\" \").lower()\n",
    "df['cossim'] = df.apply(combined_features_one, axis =1)"
   ]
  },
  {
   "cell_type": "code",
   "execution_count": 12,
   "metadata": {},
   "outputs": [
    {
     "name": "stdout",
     "output_type": "stream",
     "text": [
      "Count Matrix: [[0.        0.        0.        ... 0.        0.        0.       ]\n",
      " [0.        0.        0.        ... 0.        0.        0.       ]\n",
      " [0.        0.        0.        ... 0.        0.4372291 0.       ]\n",
      " ...\n",
      " [0.        0.        0.        ... 0.        0.        0.       ]\n",
      " [0.        0.        0.        ... 0.        0.        0.       ]\n",
      " [0.        0.        0.        ... 0.        0.        0.       ]]\n"
     ]
    }
   ],
   "source": [
    "cv = TfidfVectorizer()\n",
    "count_matrix = cv.fit_transform(df['cossim'])\n",
    "print(\"Count Matrix:\", count_matrix.toarray())"
   ]
  },
  {
   "cell_type": "code",
   "execution_count": 18,
   "metadata": {},
   "outputs": [
    {
     "name": "stdout",
     "output_type": "stream",
     "text": [
      "[[0.         0.         0.62053255 ... 1.32772025 1.39331017 1.29111838]\n",
      " [0.         0.         0.62053255 ... 1.32772025 1.39331017 1.29111838]\n",
      " [0.62053255 0.62053255 0.         ... 1.37369928 1.40702466 1.35698109]\n",
      " ...\n",
      " [1.32772025 1.32772025 1.37369928 ... 0.         0.6876815  1.09021312]\n",
      " [1.39331017 1.39331017 1.40702466 ... 0.6876815  0.         0.97901623]\n",
      " [1.29111838 1.29111838 1.35698109 ... 1.09021312 0.97901623 0.        ]]\n"
     ]
    }
   ],
   "source": [
    "eucl_dist = euclidean_distances(count_matrix)\n",
    "print(eucl_dist)"
   ]
  },
  {
   "cell_type": "code",
   "execution_count": 19,
   "metadata": {},
   "outputs": [],
   "source": [
    "def find_similar_games(eucl_dist, user_likes, top_k):\n",
    "    recommended_games = {}\n",
    "    max_limit_similarity = 0\n",
    "    max_limit= 0.05\n",
    "    # repeat until we find enough recommendations\n",
    "    while len(recommended_games)<20:\n",
    "        max_limit_similarity+=max_limit\n",
    "        recommended_games = {}\n",
    "        for game in user_likes:\n",
    "            for i in range(len(eucl_dist)):\n",
    "                if game != i:\n",
    "                    if eucl_dist[game][i] <= max_limit_similarity:\n",
    "                        if not (i in user_likes):\n",
    "                            if i in recommended_games.keys():\n",
    "                                recommended_games[i][0] +=1\n",
    "                                if eucl_dist[game][i] < recommended_games[i][1]:\n",
    "                                    recommended_games[i][1] = eucl_dist[game][i]\n",
    "                            else:\n",
    "                                recommended_games[i] = [1, eucl_dist[game][i]]\n",
    "    recommended_games = {k: v for k, v in sorted(recommended_games.items(), key=lambda item: item[1][0], reverse=True)}\n",
    "    sort_dict = {}\n",
    "    lists = []\n",
    "    list_counter = 0\n",
    "    frequency = len(eucl_dist) #infinity\n",
    "    for game, sim_list in recommended_games.items():\n",
    "        #first list of frequencies\n",
    "        if frequency == len(eucl_dist):\n",
    "            frequency = sim_list[0]\n",
    "            for i in range(frequency):\n",
    "                lists.append([])\n",
    "        #sort the list\n",
    "        if frequency > sim_list[0]:\n",
    "            frequency = sim_list[0]\n",
    "            lists[list_counter] = sorted(sort_dict.items(), key=lambda item: item[1][1])\n",
    "            list_counter += 1\n",
    "            sort_dict.clear()\n",
    "        sort_dict[game] = sim_list\n",
    "    lists[list_counter] = sorted(sort_dict.items(), key=lambda item: item[1][1])\n",
    "    list_counter += 1\n",
    "    final_sorted_list = []\n",
    "    for i in range(list_counter):\n",
    "        final_sorted_list+=lists[i]\n",
    "    recommended_games = {k: v for k, v in final_sorted_list}\n",
    "    counter = 0\n",
    "    result_list = []\n",
    "    for game, info in recommended_games.items():\n",
    "        if counter < top_k:\n",
    "            counter+=1\n",
    "            result_list.append(df.iloc[game][\"appid\"])\n",
    "    return result_list"
   ]
  },
  {
   "cell_type": "code",
   "execution_count": 20,
   "metadata": {},
   "outputs": [
    {
     "name": "stdout",
     "output_type": "stream",
     "text": [
      "Call of Duty United Offensive\n",
      "Medal of Honor Airborne\n",
      "Brothers in Arms Road to Hill 30\n",
      "Brothers in Arms Hell's Highway\n",
      "Brothers in Arms Earned in Blood\n",
      "Ubersoldier II\n",
      "World War II GI\n",
      "Enemy Front\n",
      "Wolfenstein The Old Blood\n",
      "Delta Force Xtreme 2\n"
     ]
    }
   ],
   "source": [
    "recommended_games = find_similar_games(eucl_dist, user_likes, 10)\n",
    "for game in recommended_games:\n",
    "    for i in range(df.shape[0]):\n",
    "        if df.iloc[i][\"appid\"] == game:\n",
    "            print(df.iloc[i][\"name\"])\n",
    "            break"
   ]
  },
  {
   "cell_type": "markdown",
   "metadata": {},
   "source": [
    "### 2nd approach"
   ]
  },
  {
   "cell_type": "markdown",
   "metadata": {},
   "source": [
    "We will add the attributes publisher and developer and will do the same process ."
   ]
  },
  {
   "cell_type": "code",
   "execution_count": 21,
   "metadata": {},
   "outputs": [],
   "source": [
    "def combined_features_two(row):\n",
    "    return row['genres'].replace(\";\",\" \").lower()+\" \"+row['categories'].replace(\";\",\" \").lower()+\" \"+row['steamspy_tags'].replace(\";\",\" \").lower()+\" \"+row['developer'].replace(\";\",\" \").lower()+\" \"+str(row['publisher']).replace(\";\",\" \").lower()\n",
    "df['cossim'] = df.apply(combined_features_two, axis =1)"
   ]
  },
  {
   "cell_type": "code",
   "execution_count": 22,
   "metadata": {},
   "outputs": [
    {
     "name": "stdout",
     "output_type": "stream",
     "text": [
      "Count Matrix: [[0. 0. 0. ... 0. 0. 0.]\n",
      " [0. 0. 0. ... 0. 0. 0.]\n",
      " [0. 0. 0. ... 0. 0. 0.]\n",
      " ...\n",
      " [0. 0. 0. ... 0. 0. 0.]\n",
      " [0. 0. 0. ... 0. 0. 0.]\n",
      " [0. 0. 0. ... 0. 0. 0.]]\n"
     ]
    }
   ],
   "source": [
    "cv = TfidfVectorizer()\n",
    "count_matrix = cv.fit_transform(df['cossim'])\n",
    "print(\"Count Matrix:\", count_matrix.toarray())"
   ]
  },
  {
   "cell_type": "code",
   "execution_count": 23,
   "metadata": {},
   "outputs": [
    {
     "name": "stdout",
     "output_type": "stream",
     "text": [
      "[[0.         0.         0.42059456 ... 1.3900576  1.4085031  1.38048325]\n",
      " [0.         0.         0.42059456 ... 1.3900576  1.4085031  1.38048325]\n",
      " [0.42059456 0.42059456 0.         ... 1.40298343 1.41228087 1.39856128]\n",
      " ...\n",
      " [1.3900576  1.3900576  1.40298343 ... 0.         1.3205309  1.36370798]\n",
      " [1.4085031  1.4085031  1.41228087 ... 1.3205309  0.         1.35160324]\n",
      " [1.38048325 1.38048325 1.39856128 ... 1.36370798 1.35160324 0.        ]]\n"
     ]
    }
   ],
   "source": [
    "eucl_dist = euclidean_distances(count_matrix)\n",
    "print(eucl_dist)"
   ]
  },
  {
   "cell_type": "code",
   "execution_count": 24,
   "metadata": {},
   "outputs": [
    {
     "name": "stdout",
     "output_type": "stream",
     "text": [
      "Call of Duty 4 Modern Warfare\n",
      "Call of Duty Modern Warfare 2\n",
      "Call of Duty Black Ops III\n",
      "Homeworld Remastered Collection\n",
      "Sid Meier's Civilization Beyond Earth\n",
      "Sid Meier's Civilization V\n",
      "BioShock Infinite\n",
      "Call of Duty Infinite Warfare\n",
      "STAR WARS Jedi Knight II - Jedi Outcast\n",
      "Call of Duty Ghosts\n"
     ]
    }
   ],
   "source": [
    "recommended_games = find_similar_games(eucl_dist, user_likes, 10)\n",
    "for game in recommended_games:\n",
    "    for i in range(df.shape[0]):\n",
    "        if df.iloc[i][\"appid\"] == game:\n",
    "            print(df.iloc[i][\"name\"])\n",
    "            break"
   ]
  },
  {
   "cell_type": "markdown",
   "metadata": {},
   "source": [
    "### 3rd approach"
   ]
  },
  {
   "cell_type": "markdown",
   "metadata": {},
   "source": [
    "We will add the keywords from the descriptions of the games"
   ]
  },
  {
   "cell_type": "code",
   "execution_count": 25,
   "metadata": {},
   "outputs": [],
   "source": [
    "def combined_features_three(row):\n",
    "    return row['genres'].replace(\";\",\" \").lower()+\" \"+row['categories'].replace(\";\",\" \").lower()+\" \"+row['steamspy_tags'].replace(\";\",\" \").lower()+\" \"+row['developer'].replace(\";\",\" \").lower()+\" \"+str(row['publisher']).replace(\";\",\" \").lower()+\" \"+' '.join(map(str, row['desc_key_new'])).lower()\n",
    "df['cossim'] = df.apply(combined_features_three, axis =1)"
   ]
  },
  {
   "cell_type": "code",
   "execution_count": 26,
   "metadata": {},
   "outputs": [
    {
     "name": "stdout",
     "output_type": "stream",
     "text": [
      "Count Matrix: [[0. 0. 0. ... 0. 0. 0.]\n",
      " [0. 0. 0. ... 0. 0. 0.]\n",
      " [0. 0. 0. ... 0. 0. 0.]\n",
      " ...\n",
      " [0. 0. 0. ... 0. 0. 0.]\n",
      " [0. 0. 0. ... 0. 0. 0.]\n",
      " [0. 0. 0. ... 0. 0. 0.]]\n"
     ]
    }
   ],
   "source": [
    "cv = TfidfVectorizer()\n",
    "count_matrix = cv.fit_transform(df['cossim'])\n",
    "print(\"Count Matrix:\", count_matrix.toarray())"
   ]
  },
  {
   "cell_type": "code",
   "execution_count": 27,
   "metadata": {},
   "outputs": [
    {
     "name": "stdout",
     "output_type": "stream",
     "text": [
      "[[0.         0.         0.42059456 ... 1.3900576  1.4085031  1.38048325]\n",
      " [0.         0.         0.42059456 ... 1.3900576  1.4085031  1.38048325]\n",
      " [0.42059456 0.42059456 0.         ... 1.40298343 1.41228087 1.39856128]\n",
      " ...\n",
      " [1.3900576  1.3900576  1.40298343 ... 0.         1.3205309  1.36370798]\n",
      " [1.4085031  1.4085031  1.41228087 ... 1.3205309  0.         1.35160324]\n",
      " [1.38048325 1.38048325 1.39856128 ... 1.36370798 1.35160324 0.        ]]\n"
     ]
    }
   ],
   "source": [
    "eucl_dist = euclidean_distances(count_matrix)\n",
    "print(eucl_dist)"
   ]
  },
  {
   "cell_type": "code",
   "execution_count": 28,
   "metadata": {},
   "outputs": [
    {
     "name": "stdout",
     "output_type": "stream",
     "text": [
      "Call of Duty 4 Modern Warfare\n",
      "Call of Duty Modern Warfare 2\n",
      "Call of Duty Black Ops III\n",
      "Homeworld Remastered Collection\n",
      "Sid Meier's Civilization Beyond Earth\n",
      "Sid Meier's Civilization V\n",
      "BioShock Infinite\n",
      "Call of Duty Infinite Warfare\n",
      "STAR WARS Jedi Knight II - Jedi Outcast\n",
      "Call of Duty Ghosts\n"
     ]
    }
   ],
   "source": [
    "recommended_games = find_similar_games(eucl_dist, user_likes, 10)\n",
    "for game in recommended_games:\n",
    "    for i in range(df.shape[0]):\n",
    "        if df.iloc[i][\"appid\"] == game:\n",
    "            print(df.iloc[i][\"name\"])\n",
    "            break"
   ]
  },
  {
   "cell_type": "markdown",
   "metadata": {},
   "source": [
    "### 4th approach"
   ]
  },
  {
   "cell_type": "markdown",
   "metadata": {},
   "source": [
    "We will use the descriptions of every game (after cleaning) instead of their keywords."
   ]
  },
  {
   "cell_type": "code",
   "execution_count": 29,
   "metadata": {},
   "outputs": [],
   "source": [
    "def combined_features_four(row):\n",
    "    return row['genres'].replace(\";\",\" \").lower()+\" \"+row['categories'].replace(\";\",\" \").lower()+\" \"+row['steamspy_tags'].replace(\";\",\" \").lower()+\" \"+row['developer'].replace(\";\",\" \").lower()+\" \"+str(row['publisher']).replace(\";\",\" \").lower()+\" \"+row['new_description'].lower()\n",
    "df['cossim'] = df.apply(combined_features_four, axis =1)"
   ]
  },
  {
   "cell_type": "code",
   "execution_count": 30,
   "metadata": {},
   "outputs": [
    {
     "name": "stdout",
     "output_type": "stream",
     "text": [
      "Count Matrix: [[0. 0. 0. ... 0. 0. 0.]\n",
      " [0. 0. 0. ... 0. 0. 0.]\n",
      " [0. 0. 0. ... 0. 0. 0.]\n",
      " ...\n",
      " [0. 0. 0. ... 0. 0. 0.]\n",
      " [0. 0. 0. ... 0. 0. 0.]\n",
      " [0. 0. 0. ... 0. 0. 0.]]\n"
     ]
    }
   ],
   "source": [
    "cv = TfidfVectorizer()\n",
    "count_matrix = cv.fit_transform(df['cossim'])\n",
    "print(\"Count Matrix:\", count_matrix.toarray())"
   ]
  },
  {
   "cell_type": "code",
   "execution_count": 31,
   "metadata": {},
   "outputs": [
    {
     "name": "stdout",
     "output_type": "stream",
     "text": [
      "[[0.         1.18171528 1.2551194  ... 1.39539267 1.40751676 1.40092755]\n",
      " [1.18171528 0.         1.25528746 ... 1.40028763 1.40964732 1.39981954]\n",
      " [1.2551194  1.25528746 0.         ... 1.41172615 1.41358401 1.40941725]\n",
      " ...\n",
      " [1.39539267 1.40028763 1.41172615 ... 0.         1.37834299 1.39571572]\n",
      " [1.40751676 1.40964732 1.41358401 ... 1.37834299 0.         1.38125141]\n",
      " [1.40092755 1.39981954 1.40941725 ... 1.39571572 1.38125141 0.        ]]\n"
     ]
    }
   ],
   "source": [
    "eucl_dist = euclidean_distances(count_matrix)\n",
    "print(eucl_dist)"
   ]
  },
  {
   "cell_type": "code",
   "execution_count": 32,
   "metadata": {},
   "outputs": [
    {
     "name": "stdout",
     "output_type": "stream",
     "text": [
      "Call of Duty 4 Modern Warfare\n",
      "Call of Duty World at War\n",
      "Call of Duty WWII\n",
      "Call of Duty United Offensive\n",
      "Call of Duty Black Ops\n",
      "Call of Duty Ghosts\n",
      "Call of Duty Black Ops - Mac Edition\n",
      "Call of Duty Black Ops III\n",
      "Call of Duty Modern Warfare 2\n",
      "Sid Meier's Civilization V\n"
     ]
    }
   ],
   "source": [
    "recommended_games = find_similar_games(eucl_dist, user_likes, 10)\n",
    "for game in recommended_games:\n",
    "    for i in range(df.shape[0]):\n",
    "        if df.iloc[i][\"appid\"] == game:\n",
    "            print(df.iloc[i][\"name\"])\n",
    "            break"
   ]
  },
  {
   "cell_type": "markdown",
   "metadata": {},
   "source": [
    "The last two approaches has the best results. We put as input 2 call of duty games and we took as a result a list containing call of duty games at the first places of the list."
   ]
  },
  {
   "cell_type": "code",
   "execution_count": null,
   "metadata": {},
   "outputs": [],
   "source": []
  },
  {
   "cell_type": "markdown",
   "metadata": {},
   "source": [
    "## Top rated"
   ]
  },
  {
   "cell_type": "markdown",
   "metadata": {},
   "source": [
    "We will use the ratings, which we calculated before with the Bayesian rating technique."
   ]
  },
  {
   "cell_type": "code",
   "execution_count": 48,
   "metadata": {},
   "outputs": [],
   "source": [
    "def TopRated(df):    \n",
    "    all_games = {}\n",
    "    top_rated = []\n",
    "    for i in range(df.shape[0]):\n",
    "        all_games[i] = df.iloc[i][\"rating\"]\n",
    "    top_rated = sorted(all_games.items(), key=lambda item: item[1], reverse=True)\n",
    "    return top_rated"
   ]
  },
  {
   "cell_type": "code",
   "execution_count": 49,
   "metadata": {},
   "outputs": [
    {
     "name": "stdout",
     "output_type": "stream",
     "text": [
      "Portal 2 ===> 9.840933043545515\n",
      "Factorio ===> 9.783406771972498\n",
      "The Witcher 3 Wild Hunt ===> 9.753293880115061\n",
      "Portal ===> 9.73441810716475\n",
      "Counter-Strike ===> 9.713712651015893\n",
      "The Binding of Isaac Rebirth ===> 9.710533564390223\n",
      "RimWorld ===> 9.701293015664707\n",
      "Terraria ===> 9.691867457316876\n",
      "Mount & Blade Warband ===> 9.675976490175762\n",
      "Hotline Miami ===> 9.675027796478476\n"
     ]
    }
   ],
   "source": [
    "top_limit = 10\n",
    "counter = 0\n",
    "top_rated = TopRated(df_details)\n",
    "for game, rate in top_rated:\n",
    "    if counter < top_limit:\n",
    "        if user_games.count(df_details.iloc[game][\"name\"])>0:\n",
    "            continue\n",
    "        counter+=1\n",
    "        print(df_details.iloc[game][\"name\"],\"===>\",rate)"
   ]
  }
 ],
 "metadata": {
  "kernelspec": {
   "display_name": "Python 3 (ipykernel)",
   "language": "python",
   "name": "python3"
  },
  "language_info": {
   "codemirror_mode": {
    "name": "ipython",
    "version": 3
   },
   "file_extension": ".py",
   "mimetype": "text/x-python",
   "name": "python",
   "nbconvert_exporter": "python",
   "pygments_lexer": "ipython3",
   "version": "3.8.5"
  }
 },
 "nbformat": 4,
 "nbformat_minor": 4
}
