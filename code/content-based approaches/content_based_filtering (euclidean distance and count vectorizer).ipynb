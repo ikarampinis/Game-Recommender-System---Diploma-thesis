{
 "cells": [
  {
   "cell_type": "markdown",
   "metadata": {},
   "source": [
    "# Content-based filtering with euclidean distance and count vectorizer"
   ]
  },
  {
   "cell_type": "code",
   "execution_count": 1,
   "metadata": {},
   "outputs": [],
   "source": [
    "import pandas as pd \n",
    "import numpy as np\n",
    "#cosine similarity\n",
    "from sklearn.metrics.pairwise import euclidean_distances\n",
    "from sklearn.feature_extraction.text import CountVectorizer"
   ]
  },
  {
   "cell_type": "code",
   "execution_count": 2,
   "metadata": {},
   "outputs": [],
   "source": [
    "df_details=pd.read_csv('games_details_dataset.csv')"
   ]
  },
  {
   "cell_type": "code",
   "execution_count": 3,
   "metadata": {},
   "outputs": [],
   "source": [
    "user_games = [2620, 2630] #example game ids"
   ]
  },
  {
   "cell_type": "code",
   "execution_count": 4,
   "metadata": {},
   "outputs": [
    {
     "name": "stdout",
     "output_type": "stream",
     "text": [
      "Call of Duty\n",
      "Call of Duty 2\n"
     ]
    }
   ],
   "source": [
    "for i in range(df_details.shape[0]):\n",
    "    if df_details.iloc[i][\"appid\"] in user_games:\n",
    "        print(df_details.iloc[i][\"name\"])"
   ]
  },
  {
   "cell_type": "code",
   "execution_count": 5,
   "metadata": {},
   "outputs": [],
   "source": [
    "def specific_genre(chosen_genre):\n",
    "    remove_rows = []\n",
    "    for i in range(df_details.shape[0]):\n",
    "        if df_details.iloc[i][\"genre_new\"] != chosen_genre:\n",
    "            remove_rows.append(i)\n",
    "    df = df_details.drop(remove_rows, axis=0)\n",
    "    user_likes = []\n",
    "    for i in range(df.shape[0]):\n",
    "        if user_games.count(df.iloc[i][\"appid\"])>0:\n",
    "            user_likes.append(i)\n",
    "    return df, user_likes"
   ]
  },
  {
   "cell_type": "code",
   "execution_count": 6,
   "metadata": {},
   "outputs": [],
   "source": [
    "def specific_category(chosen_category):\n",
    "    remove_rows = []\n",
    "    for i in range(df_details.shape[0]):\n",
    "        if df_details.iloc[i][\"cat_new\"] != chosen_category:\n",
    "            remove_rows.append(i)\n",
    "    df = df_details.drop(remove_rows, axis=0)\n",
    "    user_likes = []\n",
    "    for i in range(df.shape[0]):\n",
    "        if user_games.count(df.iloc[i][\"appid\"])>0:\n",
    "            user_likes.append(i)\n",
    "    return df, user_likes"
   ]
  },
  {
   "cell_type": "code",
   "execution_count": 7,
   "metadata": {},
   "outputs": [],
   "source": [
    "def positive_votes():\n",
    "    remove_rows = []\n",
    "    for i in range(df_details.shape[0]):\n",
    "        if df_details.iloc[i][\"rating_sign\"] != \"positive\":\n",
    "            remove_rows.append(i)\n",
    "    df = df_details.drop(remove_rows, axis=0)\n",
    "    user_likes = []\n",
    "    for i in range(df.shape[0]):\n",
    "        if user_games.count(df.iloc[i][\"appid\"])>0:\n",
    "            user_likes.append(i)\n",
    "    return df, user_likes"
   ]
  },
  {
   "cell_type": "code",
   "execution_count": 8,
   "metadata": {},
   "outputs": [],
   "source": [
    "def more_playtime():\n",
    "    remove_rows = []\n",
    "    for i in range(df_details.shape[0]):\n",
    "        if df_details.iloc[i][\"playtime\"] != \"more\":\n",
    "            remove_rows.append(i)\n",
    "    df = df_details.drop(remove_rows, axis=0)\n",
    "    user_likes = []\n",
    "    for i in range(df.shape[0]):\n",
    "        if user_games.count(df.iloc[i][\"appid\"])>0:\n",
    "            user_likes.append(i)\n",
    "    return df, user_likes"
   ]
  },
  {
   "cell_type": "code",
   "execution_count": 9,
   "metadata": {},
   "outputs": [],
   "source": [
    "df, user_likes = specific_genre(\"action\")\n",
    "#df, user_likes = specific_category(\"multiplayer\")\n",
    "#df, user_likes = positive_votes()\n",
    "#df, user_likes = more_playtime()"
   ]
  },
  {
   "cell_type": "code",
   "execution_count": 10,
   "metadata": {},
   "outputs": [
    {
     "name": "stdout",
     "output_type": "stream",
     "text": [
      "Call of Duty\n",
      "Call of Duty 2\n"
     ]
    }
   ],
   "source": [
    "for i in range(df.shape[0]):\n",
    "    if i in user_likes:\n",
    "        print(df.iloc[i][\"name\"])"
   ]
  },
  {
   "cell_type": "markdown",
   "metadata": {},
   "source": [
    "## Euclidean distance"
   ]
  },
  {
   "cell_type": "markdown",
   "metadata": {},
   "source": [
    "### 1st approach"
   ]
  },
  {
   "cell_type": "markdown",
   "metadata": {},
   "source": [
    "We are using only the attributes: genre, categories and steam spy tags for cosine similarity."
   ]
  },
  {
   "cell_type": "code",
   "execution_count": 11,
   "metadata": {},
   "outputs": [],
   "source": [
    "def combined_features_one(row):\n",
    "    return row['genres'].replace(\";\",\" \").lower()+\" \"+row['categories'].replace(\";\",\" \").lower()+\" \"+row['steamspy_tags'].replace(\";\",\" \").lower()\n",
    "df['cossim'] = df.apply(combined_features_one, axis =1)"
   ]
  },
  {
   "cell_type": "code",
   "execution_count": 12,
   "metadata": {},
   "outputs": [
    {
     "name": "stdout",
     "output_type": "stream",
     "text": [
      "Count Matrix: [[0 0 0 ... 0 0 0]\n",
      " [0 0 0 ... 0 0 0]\n",
      " [0 0 0 ... 0 1 0]\n",
      " ...\n",
      " [0 0 0 ... 0 0 0]\n",
      " [0 0 0 ... 0 0 0]\n",
      " [0 0 0 ... 0 0 0]]\n"
     ]
    }
   ],
   "source": [
    "cv = CountVectorizer()\n",
    "count_matrix = cv.fit_transform(df['cossim'])\n",
    "print(\"Count Matrix:\", count_matrix.toarray())"
   ]
  },
  {
   "cell_type": "code",
   "execution_count": 13,
   "metadata": {},
   "outputs": [
    {
     "name": "stdout",
     "output_type": "stream",
     "text": [
      "[[0.         0.         2.82842712 ... 4.58257569 5.29150262 4.47213595]\n",
      " [0.         0.         2.82842712 ... 4.58257569 5.29150262 4.47213595]\n",
      " [2.82842712 2.82842712 0.         ... 4.12310563 4.47213595 4.        ]\n",
      " ...\n",
      " [4.58257569 4.58257569 4.12310563 ... 0.         3.         3.        ]\n",
      " [5.29150262 5.29150262 4.47213595 ... 3.         0.         2.82842712]\n",
      " [4.47213595 4.47213595 4.         ... 3.         2.82842712 0.        ]]\n"
     ]
    }
   ],
   "source": [
    "eucl_dist = euclidean_distances(count_matrix)\n",
    "print(eucl_dist)"
   ]
  },
  {
   "cell_type": "code",
   "execution_count": 14,
   "metadata": {},
   "outputs": [],
   "source": [
    "def find_similar_games(eucl_dist, user_likes, top_k):\n",
    "    recommended_games = {}\n",
    "    max_limit_similarity = 0\n",
    "    max_limit= 0.05\n",
    "    # repeat until we find enough recommendations\n",
    "    while len(recommended_games)<20:\n",
    "        max_limit_similarity+=max_limit\n",
    "        recommended_games = {}\n",
    "        for game in user_likes:\n",
    "            for i in range(len(eucl_dist)):\n",
    "                if game != i:\n",
    "                    if eucl_dist[game][i] <= max_limit_similarity:\n",
    "                        if not (i in user_likes):\n",
    "                            if i in recommended_games.keys():\n",
    "                                recommended_games[i][0] +=1\n",
    "                                if eucl_dist[game][i] < recommended_games[i][1]:\n",
    "                                    recommended_games[i][1] = eucl_dist[game][i]\n",
    "                            else:\n",
    "                                recommended_games[i] = [1, eucl_dist[game][i]]\n",
    "    recommended_games = {k: v for k, v in sorted(recommended_games.items(), key=lambda item: item[1][0], reverse=True)}\n",
    "    sort_dict = {}\n",
    "    lists = []\n",
    "    list_counter = 0\n",
    "    frequency = len(eucl_dist) #infinity\n",
    "    for game, sim_list in recommended_games.items():\n",
    "        #first list of frequencies\n",
    "        if frequency == len(eucl_dist):\n",
    "            frequency = sim_list[0]\n",
    "            for i in range(frequency):\n",
    "                lists.append([])\n",
    "        #sort the list\n",
    "        if frequency > sim_list[0]:\n",
    "            frequency = sim_list[0]\n",
    "            lists[list_counter] = sorted(sort_dict.items(), key=lambda item: item[1][1])\n",
    "            list_counter += 1\n",
    "            sort_dict.clear()\n",
    "        sort_dict[game] = sim_list\n",
    "    lists[list_counter] = sorted(sort_dict.items(), key=lambda item: item[1][1])\n",
    "    list_counter += 1\n",
    "    final_sorted_list = []\n",
    "    for i in range(list_counter):\n",
    "        final_sorted_list+=lists[i]\n",
    "    recommended_games = {k: v for k, v in final_sorted_list}\n",
    "    counter = 0\n",
    "    result_list = []\n",
    "    for game, info in recommended_games.items():\n",
    "        if counter < top_k:\n",
    "            counter+=1\n",
    "            result_list.append(df.iloc[game][\"appid\"])\n",
    "    return result_list"
   ]
  },
  {
   "cell_type": "code",
   "execution_count": 15,
   "metadata": {},
   "outputs": [
    {
     "name": "stdout",
     "output_type": "stream",
     "text": [
      "Call of Duty United Offensive\n",
      "Medal of Honor Airborne\n",
      "Delta Force Xtreme 2\n",
      "Delta Force Task Force Dagger\n",
      "Delta Force Xtreme\n",
      "Painkiller Resurrection\n",
      "Painkiller Overdose\n",
      "Aliens versus Predator Classic 2000\n",
      "Project Snowblind\n",
      "Call of Duty 4 Modern Warfare\n"
     ]
    }
   ],
   "source": [
    "recommended_games = find_similar_games(eucl_dist, user_likes, 10)\n",
    "for game in recommended_games:\n",
    "    for i in range(df.shape[0]):\n",
    "        if df.iloc[i][\"appid\"] == game:\n",
    "            print(df.iloc[i][\"name\"])\n",
    "            break"
   ]
  },
  {
   "cell_type": "markdown",
   "metadata": {},
   "source": [
    "### 2nd approach"
   ]
  },
  {
   "cell_type": "markdown",
   "metadata": {},
   "source": [
    "We will add the attributes publisher and developer and will do the same process ."
   ]
  },
  {
   "cell_type": "code",
   "execution_count": 16,
   "metadata": {},
   "outputs": [],
   "source": [
    "def combined_features_two(row):\n",
    "    return row['genres'].replace(\";\",\" \").lower()+\" \"+row['categories'].replace(\";\",\" \").lower()+\" \"+row['steamspy_tags'].replace(\";\",\" \").lower()+\" \"+row['developer'].replace(\";\",\" \").lower()+\" \"+str(row['publisher']).replace(\";\",\" \").lower()\n",
    "df['cossim'] = df.apply(combined_features_two, axis =1)"
   ]
  },
  {
   "cell_type": "code",
   "execution_count": 17,
   "metadata": {},
   "outputs": [
    {
     "name": "stdout",
     "output_type": "stream",
     "text": [
      "Count Matrix: [[0 0 0 ... 0 0 0]\n",
      " [0 0 0 ... 0 0 0]\n",
      " [0 0 0 ... 0 0 0]\n",
      " ...\n",
      " [0 0 0 ... 0 0 0]\n",
      " [0 0 0 ... 0 0 0]\n",
      " [0 0 0 ... 0 0 0]]\n"
     ]
    }
   ],
   "source": [
    "cv = CountVectorizer()\n",
    "count_matrix = cv.fit_transform(df['cossim'])\n",
    "print(\"Count Matrix:\", count_matrix.toarray())"
   ]
  },
  {
   "cell_type": "code",
   "execution_count": 18,
   "metadata": {},
   "outputs": [
    {
     "name": "stdout",
     "output_type": "stream",
     "text": [
      "[[0.         0.         2.82842712 ... 5.38516481 6.         5.09901951]\n",
      " [0.         0.         2.82842712 ... 5.38516481 6.         5.09901951]\n",
      " [2.82842712 2.82842712 0.         ... 5.         5.29150262 4.69041576]\n",
      " ...\n",
      " [5.38516481 5.38516481 5.         ... 0.         4.12310563 3.87298335]\n",
      " [6.         6.         5.29150262 ... 4.12310563 0.         3.74165739]\n",
      " [5.09901951 5.09901951 4.69041576 ... 3.87298335 3.74165739 0.        ]]\n"
     ]
    }
   ],
   "source": [
    "eucl_dist = euclidean_distances(count_matrix)\n",
    "print(eucl_dist)"
   ]
  },
  {
   "cell_type": "code",
   "execution_count": 19,
   "metadata": {},
   "outputs": [
    {
     "name": "stdout",
     "output_type": "stream",
     "text": [
      "Call of Duty United Offensive\n",
      "Call of Duty 4 Modern Warfare\n",
      "TimeShift\n",
      "Medal of Honor Airborne\n",
      "Painkiller Resurrection\n",
      "Singularity\n",
      "Painkiller Overdose\n",
      "Project Snowblind\n",
      "Call of Duty World at War\n",
      "Tom Clancy's Rainbow Six Vegas\n"
     ]
    }
   ],
   "source": [
    "recommended_games = find_similar_games(eucl_dist, user_likes, 10)\n",
    "for game in recommended_games:\n",
    "    for i in range(df.shape[0]):\n",
    "        if df.iloc[i][\"appid\"] == game:\n",
    "            print(df.iloc[i][\"name\"])\n",
    "            break"
   ]
  },
  {
   "cell_type": "markdown",
   "metadata": {},
   "source": [
    "### 3rd approach"
   ]
  },
  {
   "cell_type": "markdown",
   "metadata": {},
   "source": [
    "We will add the keywords from the descriptions of the games"
   ]
  },
  {
   "cell_type": "code",
   "execution_count": 20,
   "metadata": {},
   "outputs": [],
   "source": [
    "def combined_features_three(row):\n",
    "    return row['genres'].replace(\";\",\" \").lower()+\" \"+row['categories'].replace(\";\",\" \").lower()+\" \"+row['steamspy_tags'].replace(\";\",\" \").lower()+\" \"+row['developer'].replace(\";\",\" \").lower()+\" \"+str(row['publisher']).replace(\";\",\" \").lower()+\" \"+' '.join(map(str, row['desc_key_new'])).lower()\n",
    "df['cossim'] = df.apply(combined_features_three, axis =1)"
   ]
  },
  {
   "cell_type": "code",
   "execution_count": 21,
   "metadata": {},
   "outputs": [
    {
     "name": "stdout",
     "output_type": "stream",
     "text": [
      "Count Matrix: [[0 0 0 ... 0 0 0]\n",
      " [0 0 0 ... 0 0 0]\n",
      " [0 0 0 ... 0 0 0]\n",
      " ...\n",
      " [0 0 0 ... 0 0 0]\n",
      " [0 0 0 ... 0 0 0]\n",
      " [0 0 0 ... 0 0 0]]\n"
     ]
    }
   ],
   "source": [
    "cv = CountVectorizer()\n",
    "count_matrix = cv.fit_transform(df['cossim'])\n",
    "print(\"Count Matrix:\", count_matrix.toarray())"
   ]
  },
  {
   "cell_type": "code",
   "execution_count": 22,
   "metadata": {},
   "outputs": [
    {
     "name": "stdout",
     "output_type": "stream",
     "text": [
      "[[0.         0.         2.82842712 ... 5.38516481 6.         5.09901951]\n",
      " [0.         0.         2.82842712 ... 5.38516481 6.         5.09901951]\n",
      " [2.82842712 2.82842712 0.         ... 5.         5.29150262 4.69041576]\n",
      " ...\n",
      " [5.38516481 5.38516481 5.         ... 0.         4.12310563 3.87298335]\n",
      " [6.         6.         5.29150262 ... 4.12310563 0.         3.74165739]\n",
      " [5.09901951 5.09901951 4.69041576 ... 3.87298335 3.74165739 0.        ]]\n"
     ]
    }
   ],
   "source": [
    "eucl_dist = euclidean_distances(count_matrix)\n",
    "print(eucl_dist)"
   ]
  },
  {
   "cell_type": "code",
   "execution_count": 23,
   "metadata": {},
   "outputs": [
    {
     "name": "stdout",
     "output_type": "stream",
     "text": [
      "Call of Duty United Offensive\n",
      "Call of Duty 4 Modern Warfare\n",
      "TimeShift\n",
      "Medal of Honor Airborne\n",
      "Painkiller Resurrection\n",
      "Singularity\n",
      "Painkiller Overdose\n",
      "Project Snowblind\n",
      "Call of Duty World at War\n",
      "Tom Clancy's Rainbow Six Vegas\n"
     ]
    }
   ],
   "source": [
    "recommended_games = find_similar_games(eucl_dist, user_likes, 10)\n",
    "for game in recommended_games:\n",
    "    for i in range(df.shape[0]):\n",
    "        if df.iloc[i][\"appid\"] == game:\n",
    "            print(df.iloc[i][\"name\"])\n",
    "            break"
   ]
  },
  {
   "cell_type": "markdown",
   "metadata": {},
   "source": [
    "### 4th approach"
   ]
  },
  {
   "cell_type": "markdown",
   "metadata": {},
   "source": [
    "We will use the descriptions of every game (after cleaning) instead of their keywords."
   ]
  },
  {
   "cell_type": "code",
   "execution_count": 24,
   "metadata": {},
   "outputs": [],
   "source": [
    "def combined_features_four(row):\n",
    "    return row['genres'].replace(\";\",\" \").lower()+\" \"+row['categories'].replace(\";\",\" \").lower()+\" \"+row['steamspy_tags'].replace(\";\",\" \").lower()+\" \"+row['developer'].replace(\";\",\" \").lower()+\" \"+str(row['publisher']).replace(\";\",\" \").lower()+\" \"+row['new_description'].lower()\n",
    "df['cossim'] = df.apply(combined_features_four, axis =1)"
   ]
  },
  {
   "cell_type": "code",
   "execution_count": 25,
   "metadata": {},
   "outputs": [
    {
     "name": "stdout",
     "output_type": "stream",
     "text": [
      "Count Matrix: [[0 0 0 ... 0 0 0]\n",
      " [0 0 0 ... 0 0 0]\n",
      " [0 0 0 ... 0 0 0]\n",
      " ...\n",
      " [0 0 0 ... 0 0 0]\n",
      " [0 0 0 ... 0 0 0]\n",
      " [0 0 0 ... 0 0 0]]\n"
     ]
    }
   ],
   "source": [
    "cv = CountVectorizer()\n",
    "count_matrix = cv.fit_transform(df['cossim'])\n",
    "print(\"Count Matrix:\", count_matrix.toarray())"
   ]
  },
  {
   "cell_type": "code",
   "execution_count": 26,
   "metadata": {},
   "outputs": [
    {
     "name": "stdout",
     "output_type": "stream",
     "text": [
      "[[ 0.          8.71779789  9.16515139 ... 10.34408043  9.53939201\n",
      "   9.        ]\n",
      " [ 8.71779789  0.          9.38083152 ... 10.44030651  9.74679434\n",
      "   9.11043358]\n",
      " [ 9.16515139  9.38083152  0.         ...  9.53939201  8.30662386\n",
      "   7.93725393]\n",
      " ...\n",
      " [10.34408043 10.44030651  9.53939201 ...  0.          7.48331477\n",
      "   7.34846923]\n",
      " [ 9.53939201  9.74679434  8.30662386 ...  7.48331477  0.\n",
      "   5.29150262]\n",
      " [ 9.          9.11043358  7.93725393 ...  7.34846923  5.29150262\n",
      "   0.        ]]\n"
     ]
    }
   ],
   "source": [
    "eucl_dist = euclidean_distances(count_matrix)\n",
    "print(eucl_dist)"
   ]
  },
  {
   "cell_type": "code",
   "execution_count": 27,
   "metadata": {},
   "outputs": [
    {
     "name": "stdout",
     "output_type": "stream",
     "text": [
      "Ubersoldier II\n",
      "Monster Challenge Circus\n",
      "Alpha Zylon\n",
      "Eradicator\n",
      "Dead Space 2\n",
      "Quake IV\n",
      "Rogue Shooter The FPS Roguelike\n",
      "Brawl\n",
      "Battle Of Europe\n",
      "Bet On Soldier\n"
     ]
    }
   ],
   "source": [
    "recommended_games = find_similar_games(eucl_dist, user_likes, 10)\n",
    "for game in recommended_games:\n",
    "    for i in range(df.shape[0]):\n",
    "        if df.iloc[i][\"appid\"] == game:\n",
    "            print(df.iloc[i][\"name\"])\n",
    "            break"
   ]
  },
  {
   "cell_type": "markdown",
   "metadata": {},
   "source": [
    "The last two approaches has the best results. We put as input 2 call of duty games and we took as a result a list containing call of duty games at the first places of the list."
   ]
  },
  {
   "cell_type": "code",
   "execution_count": null,
   "metadata": {},
   "outputs": [],
   "source": []
  },
  {
   "cell_type": "markdown",
   "metadata": {},
   "source": [
    "## Top rated"
   ]
  },
  {
   "cell_type": "markdown",
   "metadata": {},
   "source": [
    "We will use the ratings, which we calculated before with the Bayesian rating technique."
   ]
  },
  {
   "cell_type": "code",
   "execution_count": 48,
   "metadata": {},
   "outputs": [],
   "source": [
    "def TopRated(df):    \n",
    "    all_games = {}\n",
    "    top_rated = []\n",
    "    for i in range(df.shape[0]):\n",
    "        all_games[i] = df.iloc[i][\"rating\"]\n",
    "    top_rated = sorted(all_games.items(), key=lambda item: item[1], reverse=True)\n",
    "    return top_rated"
   ]
  },
  {
   "cell_type": "code",
   "execution_count": 49,
   "metadata": {},
   "outputs": [
    {
     "name": "stdout",
     "output_type": "stream",
     "text": [
      "Portal 2 ===> 9.840933043545515\n",
      "Factorio ===> 9.783406771972498\n",
      "The Witcher 3 Wild Hunt ===> 9.753293880115061\n",
      "Portal ===> 9.73441810716475\n",
      "Counter-Strike ===> 9.713712651015893\n",
      "The Binding of Isaac Rebirth ===> 9.710533564390223\n",
      "RimWorld ===> 9.701293015664707\n",
      "Terraria ===> 9.691867457316876\n",
      "Mount & Blade Warband ===> 9.675976490175762\n",
      "Hotline Miami ===> 9.675027796478476\n"
     ]
    }
   ],
   "source": [
    "top_limit = 10\n",
    "counter = 0\n",
    "top_rated = TopRated(df_details)\n",
    "for game, rate in top_rated:\n",
    "    if counter < top_limit:\n",
    "        if user_games.count(df_details.iloc[game][\"name\"])>0:\n",
    "            continue\n",
    "        counter+=1\n",
    "        print(df_details.iloc[game][\"name\"],\"===>\",rate)"
   ]
  }
 ],
 "metadata": {
  "kernelspec": {
   "display_name": "Python 3 (ipykernel)",
   "language": "python",
   "name": "python3"
  },
  "language_info": {
   "codemirror_mode": {
    "name": "ipython",
    "version": 3
   },
   "file_extension": ".py",
   "mimetype": "text/x-python",
   "name": "python",
   "nbconvert_exporter": "python",
   "pygments_lexer": "ipython3",
   "version": "3.8.5"
  }
 },
 "nbformat": 4,
 "nbformat_minor": 4
}
