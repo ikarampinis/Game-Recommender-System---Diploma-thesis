{
 "cells": [
  {
   "cell_type": "markdown",
   "metadata": {},
   "source": [
    "# Content-based filtering with cosine similarity and TFIDF"
   ]
  },
  {
   "cell_type": "code",
   "execution_count": 1,
   "metadata": {},
   "outputs": [],
   "source": [
    "import pandas as pd \n",
    "import numpy as np\n",
    "#cosine similarity\n",
    "from sklearn.metrics.pairwise import cosine_similarity\n",
    "from sklearn.feature_extraction.text import CountVectorizer"
   ]
  },
  {
   "cell_type": "code",
   "execution_count": 2,
   "metadata": {},
   "outputs": [],
   "source": [
    "df_details=pd.read_csv('games_details_dataset.csv')"
   ]
  },
  {
   "cell_type": "code",
   "execution_count": 3,
   "metadata": {},
   "outputs": [],
   "source": [
    "user_games = [2620, 2630] #example game ids"
   ]
  },
  {
   "cell_type": "code",
   "execution_count": 4,
   "metadata": {},
   "outputs": [
    {
     "name": "stdout",
     "output_type": "stream",
     "text": [
      "Call of Duty\n",
      "Call of Duty 2\n"
     ]
    }
   ],
   "source": [
    "for i in range(df_details.shape[0]):\n",
    "    if df_details.iloc[i][\"appid\"] in user_games:\n",
    "        print(df_details.iloc[i][\"name\"])"
   ]
  },
  {
   "cell_type": "code",
   "execution_count": 5,
   "metadata": {},
   "outputs": [],
   "source": [
    "def specific_genre(chosen_genre):\n",
    "    remove_rows = []\n",
    "    for i in range(df_details.shape[0]):\n",
    "        if df_details.iloc[i][\"genre_new\"] != chosen_genre:\n",
    "            remove_rows.append(i)\n",
    "    df = df_details.drop(remove_rows, axis=0)\n",
    "    user_likes = []\n",
    "    for i in range(df.shape[0]):\n",
    "        if user_games.count(df.iloc[i][\"appid\"])>0:\n",
    "            user_likes.append(i)\n",
    "    return df, user_likes"
   ]
  },
  {
   "cell_type": "code",
   "execution_count": 6,
   "metadata": {},
   "outputs": [],
   "source": [
    "def specific_category(chosen_category):\n",
    "    remove_rows = []\n",
    "    for i in range(df_details.shape[0]):\n",
    "        if df_details.iloc[i][\"cat_new\"] != chosen_category:\n",
    "            remove_rows.append(i)\n",
    "    df = df_details.drop(remove_rows, axis=0)\n",
    "    user_likes = []\n",
    "    for i in range(df.shape[0]):\n",
    "        if user_games.count(df.iloc[i][\"appid\"])>0:\n",
    "            user_likes.append(i)\n",
    "    return df, user_likes"
   ]
  },
  {
   "cell_type": "code",
   "execution_count": 7,
   "metadata": {},
   "outputs": [],
   "source": [
    "def positive_votes():\n",
    "    remove_rows = []\n",
    "    for i in range(df_details.shape[0]):\n",
    "        if df_details.iloc[i][\"rating_sign\"] != \"positive\":\n",
    "            remove_rows.append(i)\n",
    "    df = df_details.drop(remove_rows, axis=0)\n",
    "    user_likes = []\n",
    "    for i in range(df.shape[0]):\n",
    "        if user_games.count(df.iloc[i][\"appid\"])>0:\n",
    "            user_likes.append(i)\n",
    "    return df, user_likes"
   ]
  },
  {
   "cell_type": "code",
   "execution_count": 8,
   "metadata": {},
   "outputs": [],
   "source": [
    "def more_playtime():\n",
    "    remove_rows = []\n",
    "    for i in range(df_details.shape[0]):\n",
    "        if df_details.iloc[i][\"playtime\"] != \"more\":\n",
    "            remove_rows.append(i)\n",
    "    df = df_details.drop(remove_rows, axis=0)\n",
    "    user_likes = []\n",
    "    for i in range(df.shape[0]):\n",
    "        if user_games.count(df.iloc[i][\"appid\"])>0:\n",
    "            user_likes.append(i)\n",
    "    return df, user_likes"
   ]
  },
  {
   "cell_type": "code",
   "execution_count": 9,
   "metadata": {},
   "outputs": [],
   "source": [
    "df, user_likes = specific_genre(\"action\")\n",
    "#df, user_likes = specific_category(\"multiplayer\")\n",
    "#df, user_likes = positive_votes()\n",
    "#df, user_likes = more_playtime()"
   ]
  },
  {
   "cell_type": "code",
   "execution_count": 10,
   "metadata": {},
   "outputs": [
    {
     "name": "stdout",
     "output_type": "stream",
     "text": [
      "Call of Duty\n",
      "Call of Duty 2\n"
     ]
    }
   ],
   "source": [
    "for i in range(df.shape[0]):\n",
    "    if i in user_likes:\n",
    "        print(df.iloc[i][\"name\"])"
   ]
  },
  {
   "cell_type": "markdown",
   "metadata": {},
   "source": [
    "## Cosine similarity"
   ]
  },
  {
   "cell_type": "markdown",
   "metadata": {},
   "source": [
    "### 1st approach"
   ]
  },
  {
   "cell_type": "markdown",
   "metadata": {},
   "source": [
    "We are using only the attributes: genre, categories and steam spy tags for cosine similarity."
   ]
  },
  {
   "cell_type": "code",
   "execution_count": 11,
   "metadata": {},
   "outputs": [],
   "source": [
    "def combined_features_one(row):\n",
    "    return row['genres'].replace(\";\",\" \").lower()+\" \"+row['categories'].replace(\";\",\" \").lower()+\" \"+row['steamspy_tags'].replace(\";\",\" \").lower()\n",
    "df['cossim'] = df.apply(combined_features_one, axis =1)"
   ]
  },
  {
   "cell_type": "code",
   "execution_count": 12,
   "metadata": {},
   "outputs": [
    {
     "name": "stdout",
     "output_type": "stream",
     "text": [
      "Count Matrix: [[0 0 0 ... 0 0 0]\n",
      " [0 0 0 ... 0 0 0]\n",
      " [0 0 0 ... 0 1 0]\n",
      " ...\n",
      " [0 0 0 ... 0 0 0]\n",
      " [0 0 0 ... 0 0 0]\n",
      " [0 0 0 ... 0 0 0]]\n"
     ]
    }
   ],
   "source": [
    "cv = CountVectorizer()\n",
    "count_matrix = cv.fit_transform(df['cossim'])\n",
    "print(\"Count Matrix:\", count_matrix.toarray())"
   ]
  },
  {
   "cell_type": "code",
   "execution_count": 13,
   "metadata": {},
   "outputs": [
    {
     "name": "stdout",
     "output_type": "stream",
     "text": [
      "[[1.         1.         0.79056942 ... 0.40414519 0.17928429 0.41833001]\n",
      " [1.         1.         0.79056942 ... 0.40414519 0.17928429 0.41833001]\n",
      " [0.79056942 0.79056942 1.         ... 0.27386128 0.09449112 0.28347335]\n",
      " ...\n",
      " [0.40414519 0.40414519 0.27386128 ... 1.         0.69006556 0.69006556]\n",
      " [0.17928429 0.17928429 0.09449112 ... 0.69006556 1.         0.71428571]\n",
      " [0.41833001 0.41833001 0.28347335 ... 0.69006556 0.71428571 1.        ]]\n"
     ]
    }
   ],
   "source": [
    "cosine_sim = cosine_similarity(count_matrix)\n",
    "print(cosine_sim)"
   ]
  },
  {
   "cell_type": "code",
   "execution_count": 15,
   "metadata": {},
   "outputs": [],
   "source": [
    "def find_similar_games(cosine_sim, user_likes, top_k):\n",
    "    recommended_games = {}\n",
    "    lower_limit_similarity = 0.95\n",
    "    min_limit= 0.05\n",
    "    # repeat until we find enough recommendations\n",
    "    while len(recommended_games)<20:\n",
    "        lower_limit_similarity-=min_limit\n",
    "        recommended_games = {}\n",
    "        for game in user_likes:\n",
    "            for i in range(len(cosine_sim)):\n",
    "                if game != i:\n",
    "                    if cosine_sim[game][i] > lower_limit_similarity:\n",
    "                        if not (i in user_likes):\n",
    "                            if i in recommended_games.keys():\n",
    "                                recommended_games[i][0] +=1\n",
    "                                if cosine_sim[game][i] > recommended_games[i][1]:\n",
    "                                    recommended_games[i][1] = cosine_sim[game][i]\n",
    "                            else:\n",
    "                                recommended_games[i] = [1, cosine_sim[game][i]]\n",
    "    recommended_games = {k: v for k, v in sorted(recommended_games.items(), key=lambda item: item[1][0], reverse=True)}\n",
    "    sort_dict = {}\n",
    "    lists = []\n",
    "    list_counter = 0\n",
    "    frequency = len(cosine_sim) #infinity\n",
    "    for game, sim_list in recommended_games.items():\n",
    "        #first list of frequencies\n",
    "        if frequency == len(cosine_sim):\n",
    "            frequency = sim_list[0]\n",
    "            for i in range(frequency):\n",
    "                lists.append([])\n",
    "        #sort the list\n",
    "        if frequency > sim_list[0]:\n",
    "            frequency = sim_list[0]\n",
    "            lists[list_counter] = sorted(sort_dict.items(), key=lambda item: item[1][1], reverse=True)\n",
    "            list_counter += 1\n",
    "            sort_dict.clear()\n",
    "        sort_dict[game] = sim_list\n",
    "    lists[list_counter] = sorted(sort_dict.items(), key=lambda item: item[1][1], reverse=True)\n",
    "    list_counter += 1\n",
    "    final_sorted_list = []\n",
    "    for i in range(list_counter):\n",
    "        final_sorted_list+=lists[i]\n",
    "    recommended_games = {k: v for k, v in final_sorted_list}\n",
    "    counter = 0\n",
    "    result_list = []\n",
    "    for game, info in recommended_games.items():\n",
    "        if counter < top_k:\n",
    "            counter+=1\n",
    "            result_list.append(df.iloc[game][\"appid\"])\n",
    "    return result_list"
   ]
  },
  {
   "cell_type": "code",
   "execution_count": 16,
   "metadata": {},
   "outputs": [
    {
     "name": "stdout",
     "output_type": "stream",
     "text": [
      "Call of Duty United Offensive\n",
      "Medal of Honor Airborne\n",
      "Delta Force Xtreme 2\n",
      "Delta Force Task Force Dagger\n",
      "Delta Force Xtreme\n",
      "Painkiller Resurrection\n",
      "Enemy Front\n",
      "Brothers in Arms Road to Hill 30\n",
      "Brothers in Arms Hell's Highway\n",
      "Brothers in Arms Earned in Blood\n"
     ]
    }
   ],
   "source": [
    "recommended_games = find_similar_games(cosine_sim, user_likes, 10)\n",
    "for game in recommended_games:\n",
    "    for i in range(df.shape[0]):\n",
    "        if df.iloc[i][\"appid\"] == game:\n",
    "            print(df.iloc[i][\"name\"])\n",
    "            break"
   ]
  },
  {
   "cell_type": "markdown",
   "metadata": {},
   "source": [
    "### 2nd approach"
   ]
  },
  {
   "cell_type": "markdown",
   "metadata": {},
   "source": [
    "We will add the attributes publisher and developer and will do the same process ."
   ]
  },
  {
   "cell_type": "code",
   "execution_count": 17,
   "metadata": {},
   "outputs": [],
   "source": [
    "def combined_features_two(row):\n",
    "    return row['genres'].replace(\";\",\" \").lower()+\" \"+row['categories'].replace(\";\",\" \").lower()+\" \"+row['steamspy_tags'].replace(\";\",\" \").lower()+\" \"+row['developer'].replace(\";\",\" \").lower()+\" \"+str(row['publisher']).replace(\";\",\" \").lower()\n",
    "df['cossim'] = df.apply(combined_features_two, axis =1)"
   ]
  },
  {
   "cell_type": "code",
   "execution_count": 18,
   "metadata": {},
   "outputs": [
    {
     "name": "stdout",
     "output_type": "stream",
     "text": [
      "Count Matrix: [[0 0 0 ... 0 0 0]\n",
      " [0 0 0 ... 0 0 0]\n",
      " [0 0 0 ... 0 0 0]\n",
      " ...\n",
      " [0 0 0 ... 0 0 0]\n",
      " [0 0 0 ... 0 0 0]\n",
      " [0 0 0 ... 0 0 0]]\n"
     ]
    }
   ],
   "source": [
    "cv = CountVectorizer()\n",
    "count_matrix = cv.fit_transform(df['cossim'])\n",
    "print(\"Count Matrix:\", count_matrix.toarray())"
   ]
  },
  {
   "cell_type": "code",
   "execution_count": 19,
   "metadata": {},
   "outputs": [
    {
     "name": "stdout",
     "output_type": "stream",
     "text": [
      "[[1.         1.         0.82495791 ... 0.32780503 0.14433757 0.35721725]\n",
      " [1.         1.         0.82495791 ... 0.32780503 0.14433757 0.35721725]\n",
      " [0.82495791 0.82495791 1.         ... 0.19867985 0.06804138 0.21650635]\n",
      " ...\n",
      " [0.32780503 0.32780503 0.19867985 ... 1.         0.54073807 0.57353933]\n",
      " [0.14433757 0.14433757 0.06804138 ... 0.54073807 1.         0.58925565]\n",
      " [0.35721725 0.35721725 0.21650635 ... 0.57353933 0.58925565 1.        ]]\n"
     ]
    }
   ],
   "source": [
    "cosine_sim = cosine_similarity(count_matrix)\n",
    "print(cosine_sim)"
   ]
  },
  {
   "cell_type": "code",
   "execution_count": 20,
   "metadata": {},
   "outputs": [
    {
     "name": "stdout",
     "output_type": "stream",
     "text": [
      "Call of Duty 4 Modern Warfare\n",
      "Call of Duty United Offensive\n",
      "TimeShift\n",
      "Medal of Honor Airborne\n",
      "Call of Duty Modern Warfare 2\n",
      "Singularity\n",
      "Painkiller Resurrection\n",
      "Painkiller Overdose\n",
      "Project Snowblind\n",
      "Call of Duty World at War\n"
     ]
    }
   ],
   "source": [
    "recommended_games = find_similar_games(cosine_sim, user_likes, 10)\n",
    "for game in recommended_games:\n",
    "    for i in range(df.shape[0]):\n",
    "        if df.iloc[i][\"appid\"] == game:\n",
    "            print(df.iloc[i][\"name\"])\n",
    "            break"
   ]
  },
  {
   "cell_type": "markdown",
   "metadata": {},
   "source": [
    "### 3rd approach"
   ]
  },
  {
   "cell_type": "markdown",
   "metadata": {},
   "source": [
    "We will add the keywords from the descriptions of the games"
   ]
  },
  {
   "cell_type": "code",
   "execution_count": 21,
   "metadata": {},
   "outputs": [],
   "source": [
    "def combined_features_three(row):\n",
    "    return row['genres'].replace(\";\",\" \").lower()+\" \"+row['categories'].replace(\";\",\" \").lower()+\" \"+row['steamspy_tags'].replace(\";\",\" \").lower()+\" \"+row['developer'].replace(\";\",\" \").lower()+\" \"+str(row['publisher']).replace(\";\",\" \").lower()+\" \"+' '.join(map(str, row['desc_key_new'])).lower()\n",
    "df['cossim'] = df.apply(combined_features_three, axis =1)"
   ]
  },
  {
   "cell_type": "code",
   "execution_count": 22,
   "metadata": {},
   "outputs": [
    {
     "name": "stdout",
     "output_type": "stream",
     "text": [
      "Count Matrix: [[0 0 0 ... 0 0 0]\n",
      " [0 0 0 ... 0 0 0]\n",
      " [0 0 0 ... 0 0 0]\n",
      " ...\n",
      " [0 0 0 ... 0 0 0]\n",
      " [0 0 0 ... 0 0 0]\n",
      " [0 0 0 ... 0 0 0]]\n"
     ]
    }
   ],
   "source": [
    "cv = CountVectorizer()\n",
    "count_matrix = cv.fit_transform(df['cossim'])\n",
    "print(\"Count Matrix:\", count_matrix.toarray())"
   ]
  },
  {
   "cell_type": "code",
   "execution_count": 23,
   "metadata": {},
   "outputs": [
    {
     "name": "stdout",
     "output_type": "stream",
     "text": [
      "[[1.         1.         0.82495791 ... 0.32780503 0.14433757 0.35721725]\n",
      " [1.         1.         0.82495791 ... 0.32780503 0.14433757 0.35721725]\n",
      " [0.82495791 0.82495791 1.         ... 0.19867985 0.06804138 0.21650635]\n",
      " ...\n",
      " [0.32780503 0.32780503 0.19867985 ... 1.         0.54073807 0.57353933]\n",
      " [0.14433757 0.14433757 0.06804138 ... 0.54073807 1.         0.58925565]\n",
      " [0.35721725 0.35721725 0.21650635 ... 0.57353933 0.58925565 1.        ]]\n"
     ]
    }
   ],
   "source": [
    "cosine_sim = cosine_similarity(count_matrix)\n",
    "print(cosine_sim)"
   ]
  },
  {
   "cell_type": "code",
   "execution_count": 24,
   "metadata": {},
   "outputs": [
    {
     "name": "stdout",
     "output_type": "stream",
     "text": [
      "Call of Duty 4 Modern Warfare\n",
      "Call of Duty United Offensive\n",
      "TimeShift\n",
      "Medal of Honor Airborne\n",
      "Call of Duty Modern Warfare 2\n",
      "Singularity\n",
      "Painkiller Resurrection\n",
      "Painkiller Overdose\n",
      "Project Snowblind\n",
      "Call of Duty World at War\n"
     ]
    }
   ],
   "source": [
    "recommended_games = find_similar_games(cosine_sim, user_likes, 10)\n",
    "for game in recommended_games:\n",
    "    for i in range(df.shape[0]):\n",
    "        if df.iloc[i][\"appid\"] == game:\n",
    "            print(df.iloc[i][\"name\"])\n",
    "            break"
   ]
  },
  {
   "cell_type": "markdown",
   "metadata": {},
   "source": [
    "### 4th approach"
   ]
  },
  {
   "cell_type": "markdown",
   "metadata": {},
   "source": [
    "We will use the descriptions of every game (after cleaning) instead of their keywords."
   ]
  },
  {
   "cell_type": "code",
   "execution_count": 25,
   "metadata": {},
   "outputs": [],
   "source": [
    "def combined_features_four(row):\n",
    "    return row['genres'].replace(\";\",\" \").lower()+\" \"+row['categories'].replace(\";\",\" \").lower()+\" \"+row['steamspy_tags'].replace(\";\",\" \").lower()+\" \"+row['developer'].replace(\";\",\" \").lower()+\" \"+str(row['publisher']).replace(\";\",\" \").lower()+\" \"+row['new_description'].lower()\n",
    "df['cossim'] = df.apply(combined_features_four, axis =1)"
   ]
  },
  {
   "cell_type": "code",
   "execution_count": 26,
   "metadata": {},
   "outputs": [
    {
     "name": "stdout",
     "output_type": "stream",
     "text": [
      "Count Matrix: [[0 0 0 ... 0 0 0]\n",
      " [0 0 0 ... 0 0 0]\n",
      " [0 0 0 ... 0 0 0]\n",
      " ...\n",
      " [0 0 0 ... 0 0 0]\n",
      " [0 0 0 ... 0 0 0]\n",
      " [0 0 0 ... 0 0 0]]\n"
     ]
    }
   ],
   "source": [
    "cv = CountVectorizer()\n",
    "count_matrix = cv.fit_transform(df['cossim'])\n",
    "print(\"Count Matrix:\", count_matrix.toarray())"
   ]
  },
  {
   "cell_type": "code",
   "execution_count": 27,
   "metadata": {},
   "outputs": [
    {
     "name": "stdout",
     "output_type": "stream",
     "text": [
      "[[1.         0.50653623 0.32134229 ... 0.16062314 0.11470787 0.21526419]\n",
      " [0.50653623 1.         0.30050125 ... 0.1585505  0.09058216 0.21248647]\n",
      " [0.32134229 0.30050125 1.         ... 0.06193801 0.02948839 0.09223132]\n",
      " ...\n",
      " [0.16062314 0.1585505  0.06193801 ... 1.         0.28005602 0.29197858]\n",
      " [0.11470787 0.09058216 0.02948839 ... 0.28005602 1.         0.41702883]\n",
      " [0.21526419 0.21248647 0.09223132 ... 0.29197858 0.41702883 1.        ]]\n"
     ]
    }
   ],
   "source": [
    "cosine_sim = cosine_similarity(count_matrix)\n",
    "print(cosine_sim)"
   ]
  },
  {
   "cell_type": "code",
   "execution_count": 28,
   "metadata": {},
   "outputs": [
    {
     "name": "stdout",
     "output_type": "stream",
     "text": [
      "Call of Duty 4 Modern Warfare\n",
      "Call of Duty United Offensive\n",
      "Call of Duty World at War\n",
      "Call of Duty Black Ops\n",
      "Call of Duty Modern Warfare 2\n",
      "Call of Duty WWII\n",
      "Call of Duty Advanced Warfare - Gold Edition\n",
      "Project Snowblind\n",
      "Call of Duty Black Ops - Mac Edition\n",
      "Call of Duty Black Ops III\n"
     ]
    }
   ],
   "source": [
    "recommended_games = find_similar_games(cosine_sim, user_likes, 10)\n",
    "for game in recommended_games:\n",
    "    for i in range(df.shape[0]):\n",
    "        if df.iloc[i][\"appid\"] == game:\n",
    "            print(df.iloc[i][\"name\"])\n",
    "            break"
   ]
  },
  {
   "cell_type": "markdown",
   "metadata": {},
   "source": [
    "The last two approaches has the best results. We put as input 2 call of duty games and we took as a result a list containing call of duty games at the first places of the list."
   ]
  },
  {
   "cell_type": "code",
   "execution_count": null,
   "metadata": {},
   "outputs": [],
   "source": []
  },
  {
   "cell_type": "markdown",
   "metadata": {},
   "source": [
    "## Top rated"
   ]
  },
  {
   "cell_type": "markdown",
   "metadata": {},
   "source": [
    "We will use the ratings, which we calculated before with the Bayesian rating technique."
   ]
  },
  {
   "cell_type": "code",
   "execution_count": 48,
   "metadata": {},
   "outputs": [],
   "source": [
    "def TopRated(df):    \n",
    "    all_games = {}\n",
    "    top_rated = []\n",
    "    for i in range(df.shape[0]):\n",
    "        all_games[i] = df.iloc[i][\"rating\"]\n",
    "    top_rated = sorted(all_games.items(), key=lambda item: item[1], reverse=True)\n",
    "    return top_rated"
   ]
  },
  {
   "cell_type": "code",
   "execution_count": 49,
   "metadata": {},
   "outputs": [
    {
     "name": "stdout",
     "output_type": "stream",
     "text": [
      "Portal 2 ===> 9.840933043545515\n",
      "Factorio ===> 9.783406771972498\n",
      "The Witcher 3 Wild Hunt ===> 9.753293880115061\n",
      "Portal ===> 9.73441810716475\n",
      "Counter-Strike ===> 9.713712651015893\n",
      "The Binding of Isaac Rebirth ===> 9.710533564390223\n",
      "RimWorld ===> 9.701293015664707\n",
      "Terraria ===> 9.691867457316876\n",
      "Mount & Blade Warband ===> 9.675976490175762\n",
      "Hotline Miami ===> 9.675027796478476\n"
     ]
    }
   ],
   "source": [
    "top_limit = 10\n",
    "counter = 0\n",
    "top_rated = TopRated(df_details)\n",
    "for game, rate in top_rated:\n",
    "    if counter < top_limit:\n",
    "        if user_games.count(df_details.iloc[game][\"name\"])>0:\n",
    "            continue\n",
    "        counter+=1\n",
    "        print(df_details.iloc[game][\"name\"],\"===>\",rate)"
   ]
  }
 ],
 "metadata": {
  "kernelspec": {
   "display_name": "Python 3 (ipykernel)",
   "language": "python",
   "name": "python3"
  },
  "language_info": {
   "codemirror_mode": {
    "name": "ipython",
    "version": 3
   },
   "file_extension": ".py",
   "mimetype": "text/x-python",
   "name": "python",
   "nbconvert_exporter": "python",
   "pygments_lexer": "ipython3",
   "version": "3.8.5"
  }
 },
 "nbformat": 4,
 "nbformat_minor": 4
}
