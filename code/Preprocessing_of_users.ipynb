{
 "cells": [
  {
   "cell_type": "code",
   "execution_count": 1,
   "metadata": {},
   "outputs": [],
   "source": [
    "import pandas as pd \n",
    "import numpy as np\n",
    "#plots\n",
    "import matplotlib.pyplot as plt\n",
    "import matplotlib\n",
    "import seaborn as sns\n",
    "#matrix\n",
    "from scipy.sparse import csr_matrix"
   ]
  },
  {
   "cell_type": "code",
   "execution_count": 2,
   "metadata": {},
   "outputs": [],
   "source": [
    "df_users=pd.read_csv('steam_users.csv')"
   ]
  },
  {
   "cell_type": "code",
   "execution_count": 3,
   "metadata": {},
   "outputs": [
    {
     "data": {
      "text/html": [
       "<div>\n",
       "<style scoped>\n",
       "    .dataframe tbody tr th:only-of-type {\n",
       "        vertical-align: middle;\n",
       "    }\n",
       "\n",
       "    .dataframe tbody tr th {\n",
       "        vertical-align: top;\n",
       "    }\n",
       "\n",
       "    .dataframe thead th {\n",
       "        text-align: right;\n",
       "    }\n",
       "</style>\n",
       "<table border=\"1\" class=\"dataframe\">\n",
       "  <thead>\n",
       "    <tr style=\"text-align: right;\">\n",
       "      <th></th>\n",
       "      <th>151603712</th>\n",
       "      <th>The Elder Scrolls V Skyrim</th>\n",
       "      <th>purchase</th>\n",
       "      <th>1</th>\n",
       "      <th>0</th>\n",
       "    </tr>\n",
       "  </thead>\n",
       "  <tbody>\n",
       "    <tr>\n",
       "      <th>0</th>\n",
       "      <td>151603712</td>\n",
       "      <td>The Elder Scrolls V Skyrim</td>\n",
       "      <td>play</td>\n",
       "      <td>273.0</td>\n",
       "      <td>0</td>\n",
       "    </tr>\n",
       "    <tr>\n",
       "      <th>1</th>\n",
       "      <td>151603712</td>\n",
       "      <td>Fallout 4</td>\n",
       "      <td>purchase</td>\n",
       "      <td>1.0</td>\n",
       "      <td>0</td>\n",
       "    </tr>\n",
       "    <tr>\n",
       "      <th>2</th>\n",
       "      <td>151603712</td>\n",
       "      <td>Fallout 4</td>\n",
       "      <td>play</td>\n",
       "      <td>87.0</td>\n",
       "      <td>0</td>\n",
       "    </tr>\n",
       "    <tr>\n",
       "      <th>3</th>\n",
       "      <td>151603712</td>\n",
       "      <td>Spore</td>\n",
       "      <td>purchase</td>\n",
       "      <td>1.0</td>\n",
       "      <td>0</td>\n",
       "    </tr>\n",
       "    <tr>\n",
       "      <th>4</th>\n",
       "      <td>151603712</td>\n",
       "      <td>Spore</td>\n",
       "      <td>play</td>\n",
       "      <td>14.9</td>\n",
       "      <td>0</td>\n",
       "    </tr>\n",
       "  </tbody>\n",
       "</table>\n",
       "</div>"
      ],
      "text/plain": [
       "   151603712  The Elder Scrolls V Skyrim  purchase      1  0\n",
       "0  151603712  The Elder Scrolls V Skyrim      play  273.0  0\n",
       "1  151603712                   Fallout 4  purchase    1.0  0\n",
       "2  151603712                   Fallout 4      play   87.0  0\n",
       "3  151603712                       Spore  purchase    1.0  0\n",
       "4  151603712                       Spore      play   14.9  0"
      ]
     },
     "execution_count": 3,
     "metadata": {},
     "output_type": "execute_result"
    }
   ],
   "source": [
    "df_users.head()"
   ]
  },
  {
   "cell_type": "markdown",
   "metadata": {},
   "source": [
    "The first row of the dataset is the titles of the columns in our dataframe."
   ]
  },
  {
   "cell_type": "markdown",
   "metadata": {},
   "source": [
    "We will put new titles for the columns."
   ]
  },
  {
   "cell_type": "code",
   "execution_count": 4,
   "metadata": {},
   "outputs": [],
   "source": [
    "df_users.rename(columns = {'151603712' : 'User_id', 'The Elder Scrolls V Skyrim' : 'Game', 'purchase' : 'Action', '1' : 'Hours-played', '0' : 'Last_column'}, inplace = True)"
   ]
  },
  {
   "cell_type": "code",
   "execution_count": 5,
   "metadata": {},
   "outputs": [
    {
     "data": {
      "text/html": [
       "<div>\n",
       "<style scoped>\n",
       "    .dataframe tbody tr th:only-of-type {\n",
       "        vertical-align: middle;\n",
       "    }\n",
       "\n",
       "    .dataframe tbody tr th {\n",
       "        vertical-align: top;\n",
       "    }\n",
       "\n",
       "    .dataframe thead th {\n",
       "        text-align: right;\n",
       "    }\n",
       "</style>\n",
       "<table border=\"1\" class=\"dataframe\">\n",
       "  <thead>\n",
       "    <tr style=\"text-align: right;\">\n",
       "      <th></th>\n",
       "      <th>User_id</th>\n",
       "      <th>Game</th>\n",
       "      <th>Action</th>\n",
       "      <th>Hours-played</th>\n",
       "      <th>Last_column</th>\n",
       "    </tr>\n",
       "  </thead>\n",
       "  <tbody>\n",
       "    <tr>\n",
       "      <th>0</th>\n",
       "      <td>151603712</td>\n",
       "      <td>The Elder Scrolls V Skyrim</td>\n",
       "      <td>play</td>\n",
       "      <td>273.0</td>\n",
       "      <td>0</td>\n",
       "    </tr>\n",
       "    <tr>\n",
       "      <th>1</th>\n",
       "      <td>151603712</td>\n",
       "      <td>Fallout 4</td>\n",
       "      <td>purchase</td>\n",
       "      <td>1.0</td>\n",
       "      <td>0</td>\n",
       "    </tr>\n",
       "    <tr>\n",
       "      <th>2</th>\n",
       "      <td>151603712</td>\n",
       "      <td>Fallout 4</td>\n",
       "      <td>play</td>\n",
       "      <td>87.0</td>\n",
       "      <td>0</td>\n",
       "    </tr>\n",
       "    <tr>\n",
       "      <th>3</th>\n",
       "      <td>151603712</td>\n",
       "      <td>Spore</td>\n",
       "      <td>purchase</td>\n",
       "      <td>1.0</td>\n",
       "      <td>0</td>\n",
       "    </tr>\n",
       "    <tr>\n",
       "      <th>4</th>\n",
       "      <td>151603712</td>\n",
       "      <td>Spore</td>\n",
       "      <td>play</td>\n",
       "      <td>14.9</td>\n",
       "      <td>0</td>\n",
       "    </tr>\n",
       "  </tbody>\n",
       "</table>\n",
       "</div>"
      ],
      "text/plain": [
       "     User_id                        Game    Action  Hours-played  Last_column\n",
       "0  151603712  The Elder Scrolls V Skyrim      play         273.0            0\n",
       "1  151603712                   Fallout 4  purchase           1.0            0\n",
       "2  151603712                   Fallout 4      play          87.0            0\n",
       "3  151603712                       Spore  purchase           1.0            0\n",
       "4  151603712                       Spore      play          14.9            0"
      ]
     },
     "execution_count": 5,
     "metadata": {},
     "output_type": "execute_result"
    }
   ],
   "source": [
    "df_users.head()"
   ]
  },
  {
   "cell_type": "markdown",
   "metadata": {},
   "source": [
    "We will add the first row that we lost from the dataset."
   ]
  },
  {
   "cell_type": "code",
   "execution_count": 6,
   "metadata": {},
   "outputs": [
    {
     "data": {
      "text/html": [
       "<div>\n",
       "<style scoped>\n",
       "    .dataframe tbody tr th:only-of-type {\n",
       "        vertical-align: middle;\n",
       "    }\n",
       "\n",
       "    .dataframe tbody tr th {\n",
       "        vertical-align: top;\n",
       "    }\n",
       "\n",
       "    .dataframe thead th {\n",
       "        text-align: right;\n",
       "    }\n",
       "</style>\n",
       "<table border=\"1\" class=\"dataframe\">\n",
       "  <thead>\n",
       "    <tr style=\"text-align: right;\">\n",
       "      <th></th>\n",
       "      <th>User_id</th>\n",
       "      <th>Game</th>\n",
       "      <th>Action</th>\n",
       "      <th>Hours-played</th>\n",
       "      <th>Last_column</th>\n",
       "    </tr>\n",
       "  </thead>\n",
       "  <tbody>\n",
       "    <tr>\n",
       "      <th>0</th>\n",
       "      <td>151603712</td>\n",
       "      <td>The Elder Scrolls V Skyrim</td>\n",
       "      <td>purchase</td>\n",
       "      <td>1</td>\n",
       "      <td>0</td>\n",
       "    </tr>\n",
       "    <tr>\n",
       "      <th>1</th>\n",
       "      <td>151603712</td>\n",
       "      <td>The Elder Scrolls V Skyrim</td>\n",
       "      <td>play</td>\n",
       "      <td>273</td>\n",
       "      <td>0</td>\n",
       "    </tr>\n",
       "    <tr>\n",
       "      <th>2</th>\n",
       "      <td>151603712</td>\n",
       "      <td>Fallout 4</td>\n",
       "      <td>purchase</td>\n",
       "      <td>1</td>\n",
       "      <td>0</td>\n",
       "    </tr>\n",
       "    <tr>\n",
       "      <th>3</th>\n",
       "      <td>151603712</td>\n",
       "      <td>Fallout 4</td>\n",
       "      <td>play</td>\n",
       "      <td>87</td>\n",
       "      <td>0</td>\n",
       "    </tr>\n",
       "    <tr>\n",
       "      <th>4</th>\n",
       "      <td>151603712</td>\n",
       "      <td>Spore</td>\n",
       "      <td>purchase</td>\n",
       "      <td>1</td>\n",
       "      <td>0</td>\n",
       "    </tr>\n",
       "    <tr>\n",
       "      <th>5</th>\n",
       "      <td>151603712</td>\n",
       "      <td>Spore</td>\n",
       "      <td>play</td>\n",
       "      <td>14.9</td>\n",
       "      <td>0</td>\n",
       "    </tr>\n",
       "    <tr>\n",
       "      <th>6</th>\n",
       "      <td>151603712</td>\n",
       "      <td>Fallout New Vegas</td>\n",
       "      <td>purchase</td>\n",
       "      <td>1</td>\n",
       "      <td>0</td>\n",
       "    </tr>\n",
       "    <tr>\n",
       "      <th>7</th>\n",
       "      <td>151603712</td>\n",
       "      <td>Fallout New Vegas</td>\n",
       "      <td>play</td>\n",
       "      <td>12.1</td>\n",
       "      <td>0</td>\n",
       "    </tr>\n",
       "    <tr>\n",
       "      <th>8</th>\n",
       "      <td>151603712</td>\n",
       "      <td>Left 4 Dead 2</td>\n",
       "      <td>purchase</td>\n",
       "      <td>1</td>\n",
       "      <td>0</td>\n",
       "    </tr>\n",
       "    <tr>\n",
       "      <th>9</th>\n",
       "      <td>151603712</td>\n",
       "      <td>Left 4 Dead 2</td>\n",
       "      <td>play</td>\n",
       "      <td>8.9</td>\n",
       "      <td>0</td>\n",
       "    </tr>\n",
       "  </tbody>\n",
       "</table>\n",
       "</div>"
      ],
      "text/plain": [
       "     User_id                        Game    Action Hours-played Last_column\n",
       "0  151603712  The Elder Scrolls V Skyrim  purchase            1           0\n",
       "1  151603712  The Elder Scrolls V Skyrim      play          273           0\n",
       "2  151603712                   Fallout 4  purchase            1           0\n",
       "3  151603712                   Fallout 4      play           87           0\n",
       "4  151603712                       Spore  purchase            1           0\n",
       "5  151603712                       Spore      play         14.9           0\n",
       "6  151603712           Fallout New Vegas  purchase            1           0\n",
       "7  151603712           Fallout New Vegas      play         12.1           0\n",
       "8  151603712               Left 4 Dead 2  purchase            1           0\n",
       "9  151603712               Left 4 Dead 2      play          8.9           0"
      ]
     },
     "execution_count": 6,
     "metadata": {},
     "output_type": "execute_result"
    }
   ],
   "source": [
    "first_row = []\n",
    "first_row.insert(0, {'User_id':'151603712', 'Game':'The Elder Scrolls V Skyrim', 'Action':'purchase', 'Hours-played': '1', 'Last_column':'0'})\n",
    "df_users = pd.concat([pd.DataFrame(first_row), df_users], ignore_index = True)\n",
    "df_users.head(10)"
   ]
  },
  {
   "cell_type": "code",
   "execution_count": 7,
   "metadata": {},
   "outputs": [
    {
     "name": "stdout",
     "output_type": "stream",
     "text": [
      "The dataset has 200000 observations.\n"
     ]
    }
   ],
   "source": [
    "print(\"The dataset has\", df_users.shape[0],\"observations.\")"
   ]
  },
  {
   "cell_type": "markdown",
   "metadata": {},
   "source": [
    "### Action"
   ]
  },
  {
   "cell_type": "code",
   "execution_count": 8,
   "metadata": {},
   "outputs": [
    {
     "name": "stdout",
     "output_type": "stream",
     "text": [
      "purchase    129511\n",
      "play         70489\n",
      "Name: Action, dtype: int64\n"
     ]
    }
   ],
   "source": [
    "actions = df_users[\"Action\"].value_counts()\n",
    "print(actions)"
   ]
  },
  {
   "cell_type": "code",
   "execution_count": 9,
   "metadata": {},
   "outputs": [
    {
     "name": "stdout",
     "output_type": "stream",
     "text": [
      "Number of only one purchases: 129510 / 129511\n",
      "Number of more than one purchases: 1 / 129511\n"
     ]
    }
   ],
   "source": [
    "one_purchase = 0\n",
    "more_purchases = 0\n",
    "for i in range(df_users.shape[0]):\n",
    "    if df_users.iloc[i][\"Action\"] == \"purchase\" and df_users.iloc[i][\"Hours-played\"] != 1:\n",
    "        more_purchases +=1\n",
    "    elif df_users.iloc[i][\"Action\"] == \"purchase\" and df_users.iloc[i][\"Hours-played\"] == 1:\n",
    "        one_purchase += 1\n",
    "print(\"Number of only one purchases:\",one_purchase,\"/\",actions[0])\n",
    "print(\"Number of more than one purchases:\",more_purchases,\"/\",actions[0])"
   ]
  },
  {
   "cell_type": "markdown",
   "metadata": {},
   "source": [
    "We will drop all the rows with purchase in the actions because this information is useless. If a user plays the game, then he had already bouhgt it. Also if a user has bought a game and hasn't played with it, then he is not interested for the game."
   ]
  },
  {
   "cell_type": "code",
   "execution_count": 10,
   "metadata": {},
   "outputs": [],
   "source": [
    "delete_rows = []\n",
    "for i in range(df_users.shape[0]):\n",
    "    if df_users.iloc[i]['Action'] == 'purchase':\n",
    "        delete_rows.append(i)\n",
    "df_users = df_users.drop(labels=delete_rows, axis=0)"
   ]
  },
  {
   "cell_type": "code",
   "execution_count": 11,
   "metadata": {},
   "outputs": [
    {
     "data": {
      "text/html": [
       "<div>\n",
       "<style scoped>\n",
       "    .dataframe tbody tr th:only-of-type {\n",
       "        vertical-align: middle;\n",
       "    }\n",
       "\n",
       "    .dataframe tbody tr th {\n",
       "        vertical-align: top;\n",
       "    }\n",
       "\n",
       "    .dataframe thead th {\n",
       "        text-align: right;\n",
       "    }\n",
       "</style>\n",
       "<table border=\"1\" class=\"dataframe\">\n",
       "  <thead>\n",
       "    <tr style=\"text-align: right;\">\n",
       "      <th></th>\n",
       "      <th>User_id</th>\n",
       "      <th>Game</th>\n",
       "      <th>Action</th>\n",
       "      <th>Hours-played</th>\n",
       "      <th>Last_column</th>\n",
       "    </tr>\n",
       "  </thead>\n",
       "  <tbody>\n",
       "    <tr>\n",
       "      <th>1</th>\n",
       "      <td>151603712</td>\n",
       "      <td>The Elder Scrolls V Skyrim</td>\n",
       "      <td>play</td>\n",
       "      <td>273</td>\n",
       "      <td>0</td>\n",
       "    </tr>\n",
       "    <tr>\n",
       "      <th>3</th>\n",
       "      <td>151603712</td>\n",
       "      <td>Fallout 4</td>\n",
       "      <td>play</td>\n",
       "      <td>87</td>\n",
       "      <td>0</td>\n",
       "    </tr>\n",
       "    <tr>\n",
       "      <th>5</th>\n",
       "      <td>151603712</td>\n",
       "      <td>Spore</td>\n",
       "      <td>play</td>\n",
       "      <td>14.9</td>\n",
       "      <td>0</td>\n",
       "    </tr>\n",
       "    <tr>\n",
       "      <th>7</th>\n",
       "      <td>151603712</td>\n",
       "      <td>Fallout New Vegas</td>\n",
       "      <td>play</td>\n",
       "      <td>12.1</td>\n",
       "      <td>0</td>\n",
       "    </tr>\n",
       "    <tr>\n",
       "      <th>9</th>\n",
       "      <td>151603712</td>\n",
       "      <td>Left 4 Dead 2</td>\n",
       "      <td>play</td>\n",
       "      <td>8.9</td>\n",
       "      <td>0</td>\n",
       "    </tr>\n",
       "    <tr>\n",
       "      <th>11</th>\n",
       "      <td>151603712</td>\n",
       "      <td>HuniePop</td>\n",
       "      <td>play</td>\n",
       "      <td>8.5</td>\n",
       "      <td>0</td>\n",
       "    </tr>\n",
       "    <tr>\n",
       "      <th>13</th>\n",
       "      <td>151603712</td>\n",
       "      <td>Path of Exile</td>\n",
       "      <td>play</td>\n",
       "      <td>8.1</td>\n",
       "      <td>0</td>\n",
       "    </tr>\n",
       "    <tr>\n",
       "      <th>15</th>\n",
       "      <td>151603712</td>\n",
       "      <td>Poly Bridge</td>\n",
       "      <td>play</td>\n",
       "      <td>7.5</td>\n",
       "      <td>0</td>\n",
       "    </tr>\n",
       "    <tr>\n",
       "      <th>17</th>\n",
       "      <td>151603712</td>\n",
       "      <td>Left 4 Dead</td>\n",
       "      <td>play</td>\n",
       "      <td>3.3</td>\n",
       "      <td>0</td>\n",
       "    </tr>\n",
       "    <tr>\n",
       "      <th>19</th>\n",
       "      <td>151603712</td>\n",
       "      <td>Team Fortress 2</td>\n",
       "      <td>play</td>\n",
       "      <td>2.8</td>\n",
       "      <td>0</td>\n",
       "    </tr>\n",
       "  </tbody>\n",
       "</table>\n",
       "</div>"
      ],
      "text/plain": [
       "      User_id                        Game Action Hours-played Last_column\n",
       "1   151603712  The Elder Scrolls V Skyrim   play          273           0\n",
       "3   151603712                   Fallout 4   play           87           0\n",
       "5   151603712                       Spore   play         14.9           0\n",
       "7   151603712           Fallout New Vegas   play         12.1           0\n",
       "9   151603712               Left 4 Dead 2   play          8.9           0\n",
       "11  151603712                    HuniePop   play          8.5           0\n",
       "13  151603712               Path of Exile   play          8.1           0\n",
       "15  151603712                 Poly Bridge   play          7.5           0\n",
       "17  151603712                 Left 4 Dead   play          3.3           0\n",
       "19  151603712             Team Fortress 2   play          2.8           0"
      ]
     },
     "execution_count": 11,
     "metadata": {},
     "output_type": "execute_result"
    }
   ],
   "source": [
    "df_users.head(10)"
   ]
  },
  {
   "cell_type": "markdown",
   "metadata": {},
   "source": [
    "Now, the column 'Action' has only one value (play), so it cannot give us any other information and we will drop it."
   ]
  },
  {
   "cell_type": "code",
   "execution_count": 12,
   "metadata": {},
   "outputs": [],
   "source": [
    "df_users = df_users.drop(['Action'], axis=1)"
   ]
  },
  {
   "cell_type": "code",
   "execution_count": 13,
   "metadata": {},
   "outputs": [
    {
     "name": "stdout",
     "output_type": "stream",
     "text": [
      "Now the dataset has 70489 observations.\n"
     ]
    }
   ],
   "source": [
    "print(\"Now the dataset has\", df_users.shape[0],\"observations.\")"
   ]
  },
  {
   "cell_type": "code",
   "execution_count": 14,
   "metadata": {},
   "outputs": [
    {
     "data": {
      "text/html": [
       "<div>\n",
       "<style scoped>\n",
       "    .dataframe tbody tr th:only-of-type {\n",
       "        vertical-align: middle;\n",
       "    }\n",
       "\n",
       "    .dataframe tbody tr th {\n",
       "        vertical-align: top;\n",
       "    }\n",
       "\n",
       "    .dataframe thead th {\n",
       "        text-align: right;\n",
       "    }\n",
       "</style>\n",
       "<table border=\"1\" class=\"dataframe\">\n",
       "  <thead>\n",
       "    <tr style=\"text-align: right;\">\n",
       "      <th></th>\n",
       "      <th>User_id</th>\n",
       "      <th>Game</th>\n",
       "      <th>Hours-played</th>\n",
       "      <th>Last_column</th>\n",
       "    </tr>\n",
       "  </thead>\n",
       "  <tbody>\n",
       "    <tr>\n",
       "      <th>0</th>\n",
       "      <td>151603712</td>\n",
       "      <td>The Elder Scrolls V Skyrim</td>\n",
       "      <td>273</td>\n",
       "      <td>0</td>\n",
       "    </tr>\n",
       "    <tr>\n",
       "      <th>1</th>\n",
       "      <td>151603712</td>\n",
       "      <td>Fallout 4</td>\n",
       "      <td>87</td>\n",
       "      <td>0</td>\n",
       "    </tr>\n",
       "    <tr>\n",
       "      <th>2</th>\n",
       "      <td>151603712</td>\n",
       "      <td>Spore</td>\n",
       "      <td>14.9</td>\n",
       "      <td>0</td>\n",
       "    </tr>\n",
       "    <tr>\n",
       "      <th>3</th>\n",
       "      <td>151603712</td>\n",
       "      <td>Fallout New Vegas</td>\n",
       "      <td>12.1</td>\n",
       "      <td>0</td>\n",
       "    </tr>\n",
       "    <tr>\n",
       "      <th>4</th>\n",
       "      <td>151603712</td>\n",
       "      <td>Left 4 Dead 2</td>\n",
       "      <td>8.9</td>\n",
       "      <td>0</td>\n",
       "    </tr>\n",
       "  </tbody>\n",
       "</table>\n",
       "</div>"
      ],
      "text/plain": [
       "     User_id                        Game Hours-played Last_column\n",
       "0  151603712  The Elder Scrolls V Skyrim          273           0\n",
       "1  151603712                   Fallout 4           87           0\n",
       "2  151603712                       Spore         14.9           0\n",
       "3  151603712           Fallout New Vegas         12.1           0\n",
       "4  151603712               Left 4 Dead 2          8.9           0"
      ]
     },
     "execution_count": 14,
     "metadata": {},
     "output_type": "execute_result"
    }
   ],
   "source": [
    "new_index = [ i for i in range(df_users.shape[0])]\n",
    "df_users.index = new_index\n",
    "df_users.head()"
   ]
  },
  {
   "cell_type": "markdown",
   "metadata": {},
   "source": [
    "Now, we will add an extra column, where we will match each game with its appid from the dataset \"game_details\"."
   ]
  },
  {
   "cell_type": "code",
   "execution_count": 15,
   "metadata": {},
   "outputs": [],
   "source": [
    "df_details=pd.read_csv('games_details_dataset.csv')"
   ]
  },
  {
   "cell_type": "code",
   "execution_count": 16,
   "metadata": {},
   "outputs": [],
   "source": [
    "not_match = []\n",
    "game_id = {}\n",
    "game_genre = {}\n",
    "game_category = {}\n",
    "game_playtime = {}\n",
    "game_positive_votes = {}\n",
    "games = df_users[\"Game\"].value_counts()\n",
    "for game in games.keys():\n",
    "    if list(df_details[\"name\"]).count(game)>0:\n",
    "        game_id[game] = df_details.iloc[list(df_details[\"name\"]).index(game)][\"appid\"]\n",
    "        game_genre[game] = df_details.iloc[list(df_details[\"name\"]).index(game)][\"genre_new\"]\n",
    "        game_category[game] = df_details.iloc[list(df_details[\"name\"]).index(game)][\"cat_new\"]\n",
    "        game_playtime[game] = df_details.iloc[list(df_details[\"name\"]).index(game)][\"playtime\"]\n",
    "        game_positive_votes[game] = df_details.iloc[list(df_details[\"name\"]).index(game)][\"rating_sign\"]\n",
    "    else:\n",
    "        not_match.append(game)"
   ]
  },
  {
   "cell_type": "code",
   "execution_count": 17,
   "metadata": {},
   "outputs": [
    {
     "name": "stdout",
     "output_type": "stream",
     "text": [
      "Games with matched ids: 2362 / 3592\n"
     ]
    }
   ],
   "source": [
    "print(\"Games with matched ids:\", len(game_id),\"/\",len(games))"
   ]
  },
  {
   "cell_type": "code",
   "execution_count": 18,
   "metadata": {},
   "outputs": [
    {
     "name": "stdout",
     "output_type": "stream",
     "text": [
      "Games with NO matched ids: 1230 / 3592\n"
     ]
    }
   ],
   "source": [
    "print(\"Games with NO matched ids:\", len(not_match),\"/\",len(games))"
   ]
  },
  {
   "cell_type": "markdown",
   "metadata": {},
   "source": [
    "We remove unmatched games."
   ]
  },
  {
   "cell_type": "code",
   "execution_count": 19,
   "metadata": {},
   "outputs": [],
   "source": [
    "not_match_index = []\n",
    "for i in range(df_users.shape[0]):\n",
    "    if not_match.count(df_users.iloc[i][\"Game\"])>0:\n",
    "        not_match_index.append(i)\n",
    "df_users = df_users.drop(labels=not_match_index, axis=0)"
   ]
  },
  {
   "cell_type": "code",
   "execution_count": 20,
   "metadata": {},
   "outputs": [],
   "source": [
    "game_to_id = []\n",
    "game_to_genre = []\n",
    "game_to_category = []\n",
    "game_to_playtime = []\n",
    "game_to_positive_votes = []\n",
    "for i in range(df_users.shape[0]):\n",
    "    if list(game_id.keys()).count(df_users.iloc[i][\"Game\"])>0:\n",
    "        game_to_id.append(game_id[df_users.iloc[i][\"Game\"]])\n",
    "        game_to_genre.append(game_genre[df_users.iloc[i][\"Game\"]])\n",
    "        game_to_category.append(game_category[df_users.iloc[i][\"Game\"]])\n",
    "        game_to_playtime.append(game_playtime[df_users.iloc[i][\"Game\"]])\n",
    "        game_to_positive_votes.append(game_positive_votes[df_users.iloc[i][\"Game\"]])\n",
    "    else:\n",
    "        game_to_id.append(0)"
   ]
  },
  {
   "cell_type": "code",
   "execution_count": 21,
   "metadata": {},
   "outputs": [],
   "source": [
    "df_users[\"Game_id\"] = game_to_id\n",
    "df_users[\"Game_genre\"] = game_to_genre\n",
    "df_users[\"Game_category\"] = game_to_category\n",
    "df_users[\"Game_playtime\"] = game_to_playtime\n",
    "df_users[\"Game_positive_votes\"] = game_to_positive_votes"
   ]
  },
  {
   "cell_type": "code",
   "execution_count": 22,
   "metadata": {},
   "outputs": [
    {
     "data": {
      "text/html": [
       "<div>\n",
       "<style scoped>\n",
       "    .dataframe tbody tr th:only-of-type {\n",
       "        vertical-align: middle;\n",
       "    }\n",
       "\n",
       "    .dataframe tbody tr th {\n",
       "        vertical-align: top;\n",
       "    }\n",
       "\n",
       "    .dataframe thead th {\n",
       "        text-align: right;\n",
       "    }\n",
       "</style>\n",
       "<table border=\"1\" class=\"dataframe\">\n",
       "  <thead>\n",
       "    <tr style=\"text-align: right;\">\n",
       "      <th></th>\n",
       "      <th>User_id</th>\n",
       "      <th>Game</th>\n",
       "      <th>Hours-played</th>\n",
       "      <th>Last_column</th>\n",
       "      <th>Game_id</th>\n",
       "      <th>Game_genre</th>\n",
       "      <th>Game_category</th>\n",
       "      <th>Game_playtime</th>\n",
       "      <th>Game_positive_votes</th>\n",
       "    </tr>\n",
       "  </thead>\n",
       "  <tbody>\n",
       "    <tr>\n",
       "      <th>0</th>\n",
       "      <td>151603712</td>\n",
       "      <td>The Elder Scrolls V Skyrim</td>\n",
       "      <td>273</td>\n",
       "      <td>0</td>\n",
       "      <td>72850</td>\n",
       "      <td>violent</td>\n",
       "      <td>no_multiplayer</td>\n",
       "      <td>more</td>\n",
       "      <td>positive</td>\n",
       "    </tr>\n",
       "    <tr>\n",
       "      <th>1</th>\n",
       "      <td>151603712</td>\n",
       "      <td>Fallout 4</td>\n",
       "      <td>87</td>\n",
       "      <td>0</td>\n",
       "      <td>377160</td>\n",
       "      <td>violent</td>\n",
       "      <td>no_multiplayer</td>\n",
       "      <td>more</td>\n",
       "      <td>positive</td>\n",
       "    </tr>\n",
       "    <tr>\n",
       "      <th>3</th>\n",
       "      <td>151603712</td>\n",
       "      <td>Fallout New Vegas</td>\n",
       "      <td>12.1</td>\n",
       "      <td>0</td>\n",
       "      <td>22380</td>\n",
       "      <td>violent</td>\n",
       "      <td>multiplayer</td>\n",
       "      <td>more</td>\n",
       "      <td>positive</td>\n",
       "    </tr>\n",
       "    <tr>\n",
       "      <th>4</th>\n",
       "      <td>151603712</td>\n",
       "      <td>Left 4 Dead 2</td>\n",
       "      <td>8.9</td>\n",
       "      <td>0</td>\n",
       "      <td>550</td>\n",
       "      <td>action</td>\n",
       "      <td>multiplayer</td>\n",
       "      <td>more</td>\n",
       "      <td>positive</td>\n",
       "    </tr>\n",
       "    <tr>\n",
       "      <th>5</th>\n",
       "      <td>151603712</td>\n",
       "      <td>HuniePop</td>\n",
       "      <td>8.5</td>\n",
       "      <td>0</td>\n",
       "      <td>339800</td>\n",
       "      <td>violent</td>\n",
       "      <td>no_multiplayer</td>\n",
       "      <td>more</td>\n",
       "      <td>positive</td>\n",
       "    </tr>\n",
       "    <tr>\n",
       "      <th>6</th>\n",
       "      <td>151603712</td>\n",
       "      <td>Path of Exile</td>\n",
       "      <td>8.1</td>\n",
       "      <td>0</td>\n",
       "      <td>238960</td>\n",
       "      <td>violent</td>\n",
       "      <td>multiplayer</td>\n",
       "      <td>more</td>\n",
       "      <td>positive</td>\n",
       "    </tr>\n",
       "    <tr>\n",
       "      <th>7</th>\n",
       "      <td>151603712</td>\n",
       "      <td>Poly Bridge</td>\n",
       "      <td>7.5</td>\n",
       "      <td>0</td>\n",
       "      <td>367450</td>\n",
       "      <td>action</td>\n",
       "      <td>multiplayer</td>\n",
       "      <td>more</td>\n",
       "      <td>positive</td>\n",
       "    </tr>\n",
       "    <tr>\n",
       "      <th>8</th>\n",
       "      <td>151603712</td>\n",
       "      <td>Left 4 Dead</td>\n",
       "      <td>3.3</td>\n",
       "      <td>0</td>\n",
       "      <td>500</td>\n",
       "      <td>action</td>\n",
       "      <td>multiplayer</td>\n",
       "      <td>more</td>\n",
       "      <td>positive</td>\n",
       "    </tr>\n",
       "    <tr>\n",
       "      <th>9</th>\n",
       "      <td>151603712</td>\n",
       "      <td>Team Fortress 2</td>\n",
       "      <td>2.8</td>\n",
       "      <td>0</td>\n",
       "      <td>440</td>\n",
       "      <td>action</td>\n",
       "      <td>multiplayer</td>\n",
       "      <td>more</td>\n",
       "      <td>positive</td>\n",
       "    </tr>\n",
       "    <tr>\n",
       "      <th>11</th>\n",
       "      <td>151603712</td>\n",
       "      <td>The Banner Saga</td>\n",
       "      <td>2</td>\n",
       "      <td>0</td>\n",
       "      <td>237990</td>\n",
       "      <td>violent</td>\n",
       "      <td>no_multiplayer</td>\n",
       "      <td>more</td>\n",
       "      <td>positive</td>\n",
       "    </tr>\n",
       "  </tbody>\n",
       "</table>\n",
       "</div>"
      ],
      "text/plain": [
       "      User_id                        Game Hours-played Last_column  Game_id  \\\n",
       "0   151603712  The Elder Scrolls V Skyrim          273           0    72850   \n",
       "1   151603712                   Fallout 4           87           0   377160   \n",
       "3   151603712           Fallout New Vegas         12.1           0    22380   \n",
       "4   151603712               Left 4 Dead 2          8.9           0      550   \n",
       "5   151603712                    HuniePop          8.5           0   339800   \n",
       "6   151603712               Path of Exile          8.1           0   238960   \n",
       "7   151603712                 Poly Bridge          7.5           0   367450   \n",
       "8   151603712                 Left 4 Dead          3.3           0      500   \n",
       "9   151603712             Team Fortress 2          2.8           0      440   \n",
       "11  151603712             The Banner Saga            2           0   237990   \n",
       "\n",
       "   Game_genre   Game_category Game_playtime Game_positive_votes  \n",
       "0     violent  no_multiplayer          more            positive  \n",
       "1     violent  no_multiplayer          more            positive  \n",
       "3     violent     multiplayer          more            positive  \n",
       "4      action     multiplayer          more            positive  \n",
       "5     violent  no_multiplayer          more            positive  \n",
       "6     violent     multiplayer          more            positive  \n",
       "7      action     multiplayer          more            positive  \n",
       "8      action     multiplayer          more            positive  \n",
       "9      action     multiplayer          more            positive  \n",
       "11    violent  no_multiplayer          more            positive  "
      ]
     },
     "execution_count": 22,
     "metadata": {},
     "output_type": "execute_result"
    }
   ],
   "source": [
    "df_users.head(10)"
   ]
  },
  {
   "cell_type": "code",
   "execution_count": 23,
   "metadata": {},
   "outputs": [
    {
     "data": {
      "text/plain": [
       "52770"
      ]
     },
     "execution_count": 23,
     "metadata": {},
     "output_type": "execute_result"
    }
   ],
   "source": [
    "df_users.shape[0]"
   ]
  },
  {
   "cell_type": "code",
   "execution_count": 24,
   "metadata": {},
   "outputs": [
    {
     "name": "stdout",
     "output_type": "stream",
     "text": [
      "action           36821\n",
      "violent          10867\n",
      "casual            3382\n",
      "sports_racing     1139\n",
      "other              561\n",
      "Name: Game_genre, dtype: int64\n"
     ]
    }
   ],
   "source": [
    "genre = df_users[\"Game_genre\"].value_counts()\n",
    "print(genre)"
   ]
  },
  {
   "cell_type": "code",
   "execution_count": 25,
   "metadata": {},
   "outputs": [
    {
     "name": "stdout",
     "output_type": "stream",
     "text": [
      "multiplayer       40749\n",
      "no_multiplayer    12021\n",
      "Name: Game_category, dtype: int64\n"
     ]
    }
   ],
   "source": [
    "category = df_users[\"Game_category\"].value_counts()\n",
    "print(category)"
   ]
  },
  {
   "cell_type": "code",
   "execution_count": 26,
   "metadata": {},
   "outputs": [
    {
     "name": "stdout",
     "output_type": "stream",
     "text": [
      "more    47124\n",
      "less     5646\n",
      "Name: Game_playtime, dtype: int64\n"
     ]
    }
   ],
   "source": [
    "playtime = df_users[\"Game_playtime\"].value_counts()\n",
    "print(playtime)"
   ]
  },
  {
   "cell_type": "code",
   "execution_count": 27,
   "metadata": {},
   "outputs": [
    {
     "name": "stdout",
     "output_type": "stream",
     "text": [
      "positive    52008\n",
      "negative      762\n",
      "Name: Game_positive_votes, dtype: int64\n"
     ]
    }
   ],
   "source": [
    "pos = df_users[\"Game_positive_votes\"].value_counts()\n",
    "print(pos)"
   ]
  },
  {
   "cell_type": "markdown",
   "metadata": {},
   "source": [
    "### Last column"
   ]
  },
  {
   "cell_type": "code",
   "execution_count": 28,
   "metadata": {},
   "outputs": [
    {
     "name": "stdout",
     "output_type": "stream",
     "text": [
      "0    52770\n",
      "Name: Last_column, dtype: int64\n"
     ]
    }
   ],
   "source": [
    "last = df_users[\"Last_column\"].value_counts()\n",
    "print(last)"
   ]
  },
  {
   "cell_type": "markdown",
   "metadata": {},
   "source": [
    "The last column has the zero value in all observations, so it doesn't give us any information. We will drop this column too."
   ]
  },
  {
   "cell_type": "code",
   "execution_count": 29,
   "metadata": {},
   "outputs": [],
   "source": [
    "df_users = df_users.drop(['Last_column'], axis=1)"
   ]
  },
  {
   "cell_type": "code",
   "execution_count": 30,
   "metadata": {},
   "outputs": [
    {
     "data": {
      "text/html": [
       "<div>\n",
       "<style scoped>\n",
       "    .dataframe tbody tr th:only-of-type {\n",
       "        vertical-align: middle;\n",
       "    }\n",
       "\n",
       "    .dataframe tbody tr th {\n",
       "        vertical-align: top;\n",
       "    }\n",
       "\n",
       "    .dataframe thead th {\n",
       "        text-align: right;\n",
       "    }\n",
       "</style>\n",
       "<table border=\"1\" class=\"dataframe\">\n",
       "  <thead>\n",
       "    <tr style=\"text-align: right;\">\n",
       "      <th></th>\n",
       "      <th>User_id</th>\n",
       "      <th>Game</th>\n",
       "      <th>Hours-played</th>\n",
       "      <th>Game_id</th>\n",
       "      <th>Game_genre</th>\n",
       "      <th>Game_category</th>\n",
       "      <th>Game_playtime</th>\n",
       "      <th>Game_positive_votes</th>\n",
       "    </tr>\n",
       "  </thead>\n",
       "  <tbody>\n",
       "    <tr>\n",
       "      <th>0</th>\n",
       "      <td>151603712</td>\n",
       "      <td>The Elder Scrolls V Skyrim</td>\n",
       "      <td>273</td>\n",
       "      <td>72850</td>\n",
       "      <td>violent</td>\n",
       "      <td>no_multiplayer</td>\n",
       "      <td>more</td>\n",
       "      <td>positive</td>\n",
       "    </tr>\n",
       "    <tr>\n",
       "      <th>1</th>\n",
       "      <td>151603712</td>\n",
       "      <td>Fallout 4</td>\n",
       "      <td>87</td>\n",
       "      <td>377160</td>\n",
       "      <td>violent</td>\n",
       "      <td>no_multiplayer</td>\n",
       "      <td>more</td>\n",
       "      <td>positive</td>\n",
       "    </tr>\n",
       "    <tr>\n",
       "      <th>3</th>\n",
       "      <td>151603712</td>\n",
       "      <td>Fallout New Vegas</td>\n",
       "      <td>12.1</td>\n",
       "      <td>22380</td>\n",
       "      <td>violent</td>\n",
       "      <td>multiplayer</td>\n",
       "      <td>more</td>\n",
       "      <td>positive</td>\n",
       "    </tr>\n",
       "    <tr>\n",
       "      <th>4</th>\n",
       "      <td>151603712</td>\n",
       "      <td>Left 4 Dead 2</td>\n",
       "      <td>8.9</td>\n",
       "      <td>550</td>\n",
       "      <td>action</td>\n",
       "      <td>multiplayer</td>\n",
       "      <td>more</td>\n",
       "      <td>positive</td>\n",
       "    </tr>\n",
       "    <tr>\n",
       "      <th>5</th>\n",
       "      <td>151603712</td>\n",
       "      <td>HuniePop</td>\n",
       "      <td>8.5</td>\n",
       "      <td>339800</td>\n",
       "      <td>violent</td>\n",
       "      <td>no_multiplayer</td>\n",
       "      <td>more</td>\n",
       "      <td>positive</td>\n",
       "    </tr>\n",
       "  </tbody>\n",
       "</table>\n",
       "</div>"
      ],
      "text/plain": [
       "     User_id                        Game Hours-played  Game_id Game_genre  \\\n",
       "0  151603712  The Elder Scrolls V Skyrim          273    72850    violent   \n",
       "1  151603712                   Fallout 4           87   377160    violent   \n",
       "3  151603712           Fallout New Vegas         12.1    22380    violent   \n",
       "4  151603712               Left 4 Dead 2          8.9      550     action   \n",
       "5  151603712                    HuniePop          8.5   339800    violent   \n",
       "\n",
       "    Game_category Game_playtime Game_positive_votes  \n",
       "0  no_multiplayer          more            positive  \n",
       "1  no_multiplayer          more            positive  \n",
       "3     multiplayer          more            positive  \n",
       "4     multiplayer          more            positive  \n",
       "5  no_multiplayer          more            positive  "
      ]
     },
     "execution_count": 30,
     "metadata": {},
     "output_type": "execute_result"
    }
   ],
   "source": [
    "df_users.head()"
   ]
  },
  {
   "cell_type": "markdown",
   "metadata": {},
   "source": [
    "### Hours played"
   ]
  },
  {
   "cell_type": "code",
   "execution_count": 31,
   "metadata": {},
   "outputs": [
    {
     "name": "stdout",
     "output_type": "stream",
     "text": [
      "0.2       2124\n",
      "0.3       1785\n",
      "0.4       1584\n",
      "0.5       1291\n",
      "0.1       1239\n",
      "          ... \n",
      "1107.0       1\n",
      "1102.0       1\n",
      "1097.0       1\n",
      "1095.0       1\n",
      "828.0        1\n",
      "Name: Hours-played, Length: 1525, dtype: int64\n"
     ]
    }
   ],
   "source": [
    "hours = df_users[\"Hours-played\"].value_counts()\n",
    "print(hours)"
   ]
  },
  {
   "cell_type": "code",
   "execution_count": 32,
   "metadata": {},
   "outputs": [
    {
     "name": "stdout",
     "output_type": "stream",
     "text": [
      "Number of less than hour: 18053 / 52770\n",
      "Number of more than hour: 34717 / 52770\n"
     ]
    }
   ],
   "source": [
    "less_than_hour = 0\n",
    "more_than_hour = 0\n",
    "for i in range(df_users.shape[0]):\n",
    "    if df_users.iloc[i][\"Hours-played\"] < 2:\n",
    "        less_than_hour +=1\n",
    "    else:\n",
    "        more_than_hour += 1\n",
    "print(\"Number of less than hour:\",less_than_hour,\"/\",df_users.shape[0])\n",
    "print(\"Number of more than hour:\",more_than_hour,\"/\",df_users.shape[0])"
   ]
  },
  {
   "cell_type": "markdown",
   "metadata": {},
   "source": [
    "We match the hours played with a rating score (1-5)."
   ]
  },
  {
   "cell_type": "code",
   "execution_count": 33,
   "metadata": {},
   "outputs": [],
   "source": [
    "rate_list = []\n",
    "for i in range(df_users.shape[0]):\n",
    "    if df_users.iloc[i][\"Hours-played\"] >= 100:\n",
    "        rate_list.append(5)\n",
    "    elif df_users.iloc[i][\"Hours-played\"] < 100 and df_users.iloc[i][\"Hours-played\"] >= 50:\n",
    "        rate_list.append(4)\n",
    "    elif df_users.iloc[i][\"Hours-played\"] < 50 and df_users.iloc[i][\"Hours-played\"] >= 10:\n",
    "        rate_list.append(3)\n",
    "    elif df_users.iloc[i][\"Hours-played\"] < 10 and df_users.iloc[i][\"Hours-played\"] >= 2:\n",
    "        rate_list.append(2)\n",
    "    else:\n",
    "        rate_list.append(1)\n",
    "df_users[\"rating\"] = rate_list"
   ]
  },
  {
   "cell_type": "code",
   "execution_count": 34,
   "metadata": {},
   "outputs": [
    {
     "name": "stdout",
     "output_type": "stream",
     "text": [
      "1    18053\n",
      "2    15025\n",
      "3    11900\n",
      "5     4803\n",
      "4     2989\n",
      "Name: rating, dtype: int64\n"
     ]
    }
   ],
   "source": [
    "rate = df_users[\"rating\"].value_counts()\n",
    "print(rate)"
   ]
  },
  {
   "cell_type": "markdown",
   "metadata": {},
   "source": [
    "### Users"
   ]
  },
  {
   "cell_type": "markdown",
   "metadata": {},
   "source": [
    "We have to clean the dataset from duplicates."
   ]
  },
  {
   "cell_type": "code",
   "execution_count": 35,
   "metadata": {},
   "outputs": [],
   "source": [
    "df_users.User_id = df_users.User_id.astype('int')\n",
    "df_users = df_users.drop_duplicates(['User_id', 'Game'], keep = 'last')"
   ]
  },
  {
   "cell_type": "code",
   "execution_count": 36,
   "metadata": {},
   "outputs": [
    {
     "name": "stdout",
     "output_type": "stream",
     "text": [
      "Number of users in the dataset: 10520\n"
     ]
    }
   ],
   "source": [
    "users = df_users[\"User_id\"].value_counts()\n",
    "print(\"Number of users in the dataset:\",len(users))"
   ]
  },
  {
   "cell_type": "code",
   "execution_count": 37,
   "metadata": {},
   "outputs": [
    {
     "name": "stdout",
     "output_type": "stream",
     "text": [
      "62990992     347\n",
      "138941587    225\n",
      "11403772     219\n",
      "47457723     206\n",
      "49893565     199\n",
      "            ... \n",
      "133547462      1\n",
      "166295260      1\n",
      "29730534       1\n",
      "207406826      1\n",
      "203370502      1\n",
      "Name: User_id, Length: 10520, dtype: int64\n"
     ]
    }
   ],
   "source": [
    "print(users)"
   ]
  },
  {
   "cell_type": "code",
   "execution_count": 38,
   "metadata": {},
   "outputs": [
    {
     "data": {
      "text/plain": [
       "[Text(0.5, 0, 'Games'), Text(0, 0.5, 'Users')]"
      ]
     },
     "execution_count": 38,
     "metadata": {},
     "output_type": "execute_result"
    },
    {
     "data": {
      "image/png": "[encoded data removed]",
      "text/plain": [
       "<Figure size 432x288 with 1 Axes>"
      ]
     },
     "metadata": {
      "needs_background": "light"
     },
     "output_type": "display_data"
    }
   ],
   "source": [
    "plt.title('Top 20 users with more games')\n",
    "ax = sns.countplot(y=\"User_id\", data=df_users,order=df_users.User_id.value_counts().iloc[:20].index)\n",
    "ax.set(xlabel=\"Games\", ylabel = \"Users\")"
   ]
  },
  {
   "cell_type": "markdown",
   "metadata": {},
   "source": [
    "### Games"
   ]
  },
  {
   "cell_type": "code",
   "execution_count": 39,
   "metadata": {},
   "outputs": [
    {
     "name": "stdout",
     "output_type": "stream",
     "text": [
      "Number of games in the dataset: 2362\n"
     ]
    }
   ],
   "source": [
    "games = df_users[\"Game\"].value_counts()\n",
    "print(\"Number of games in the dataset:\",len(games))"
   ]
  },
  {
   "cell_type": "code",
   "execution_count": 40,
   "metadata": {},
   "outputs": [
    {
     "name": "stdout",
     "output_type": "stream",
     "text": [
      "Dota 2                             4841\n",
      "Team Fortress 2                    2323\n",
      "Counter-Strike Global Offensive    1377\n",
      "Unturned                           1069\n",
      "Left 4 Dead 2                       801\n",
      "                                   ... \n",
      "AR-K                                  1\n",
      "Heroes of a Broken Land               1\n",
      "Panzer Tactics HD                     1\n",
      "Critical Mass                         1\n",
      "The Chaos Engine                      1\n",
      "Name: Game, Length: 2362, dtype: int64\n"
     ]
    }
   ],
   "source": [
    "print(games)"
   ]
  },
  {
   "cell_type": "code",
   "execution_count": 41,
   "metadata": {},
   "outputs": [
    {
     "data": {
      "text/plain": [
       "[Text(0.5, 0, 'Users'), Text(0, 0.5, 'Games')]"
      ]
     },
     "execution_count": 41,
     "metadata": {},
     "output_type": "execute_result"
    },
    {
     "data": {
      "image/png": "[encoded data removed]",
      "text/plain": [
       "<Figure size 432x288 with 1 Axes>"
      ]
     },
     "metadata": {
      "needs_background": "light"
     },
     "output_type": "display_data"
    }
   ],
   "source": [
    "plt.title('Top 20 games with more users')\n",
    "ax = sns.countplot(y=\"Game\", data=df_users,order=df_users.Game.value_counts().iloc[:20].index)\n",
    "ax.set(xlabel=\"Users\", ylabel = \"Games\")"
   ]
  },
  {
   "cell_type": "code",
   "execution_count": 42,
   "metadata": {},
   "outputs": [
    {
     "data": {
      "text/html": [
       "<div>\n",
       "<style scoped>\n",
       "    .dataframe tbody tr th:only-of-type {\n",
       "        vertical-align: middle;\n",
       "    }\n",
       "\n",
       "    .dataframe tbody tr th {\n",
       "        vertical-align: top;\n",
       "    }\n",
       "\n",
       "    .dataframe thead th {\n",
       "        text-align: right;\n",
       "    }\n",
       "</style>\n",
       "<table border=\"1\" class=\"dataframe\">\n",
       "  <thead>\n",
       "    <tr style=\"text-align: right;\">\n",
       "      <th></th>\n",
       "      <th>User_id</th>\n",
       "      <th>Game</th>\n",
       "      <th>Hours-played</th>\n",
       "      <th>Game_id</th>\n",
       "      <th>Game_genre</th>\n",
       "      <th>Game_category</th>\n",
       "      <th>Game_playtime</th>\n",
       "      <th>Game_positive_votes</th>\n",
       "      <th>rating</th>\n",
       "    </tr>\n",
       "  </thead>\n",
       "  <tbody>\n",
       "    <tr>\n",
       "      <th>0</th>\n",
       "      <td>151603712</td>\n",
       "      <td>The Elder Scrolls V Skyrim</td>\n",
       "      <td>273</td>\n",
       "      <td>72850</td>\n",
       "      <td>violent</td>\n",
       "      <td>no_multiplayer</td>\n",
       "      <td>more</td>\n",
       "      <td>positive</td>\n",
       "      <td>5</td>\n",
       "    </tr>\n",
       "    <tr>\n",
       "      <th>1</th>\n",
       "      <td>151603712</td>\n",
       "      <td>Fallout 4</td>\n",
       "      <td>87</td>\n",
       "      <td>377160</td>\n",
       "      <td>violent</td>\n",
       "      <td>no_multiplayer</td>\n",
       "      <td>more</td>\n",
       "      <td>positive</td>\n",
       "      <td>4</td>\n",
       "    </tr>\n",
       "    <tr>\n",
       "      <th>2</th>\n",
       "      <td>151603712</td>\n",
       "      <td>Fallout New Vegas</td>\n",
       "      <td>12.1</td>\n",
       "      <td>22380</td>\n",
       "      <td>violent</td>\n",
       "      <td>multiplayer</td>\n",
       "      <td>more</td>\n",
       "      <td>positive</td>\n",
       "      <td>3</td>\n",
       "    </tr>\n",
       "    <tr>\n",
       "      <th>3</th>\n",
       "      <td>151603712</td>\n",
       "      <td>Left 4 Dead 2</td>\n",
       "      <td>8.9</td>\n",
       "      <td>550</td>\n",
       "      <td>action</td>\n",
       "      <td>multiplayer</td>\n",
       "      <td>more</td>\n",
       "      <td>positive</td>\n",
       "      <td>2</td>\n",
       "    </tr>\n",
       "    <tr>\n",
       "      <th>4</th>\n",
       "      <td>151603712</td>\n",
       "      <td>HuniePop</td>\n",
       "      <td>8.5</td>\n",
       "      <td>339800</td>\n",
       "      <td>violent</td>\n",
       "      <td>no_multiplayer</td>\n",
       "      <td>more</td>\n",
       "      <td>positive</td>\n",
       "      <td>2</td>\n",
       "    </tr>\n",
       "    <tr>\n",
       "      <th>5</th>\n",
       "      <td>151603712</td>\n",
       "      <td>Path of Exile</td>\n",
       "      <td>8.1</td>\n",
       "      <td>238960</td>\n",
       "      <td>violent</td>\n",
       "      <td>multiplayer</td>\n",
       "      <td>more</td>\n",
       "      <td>positive</td>\n",
       "      <td>2</td>\n",
       "    </tr>\n",
       "    <tr>\n",
       "      <th>6</th>\n",
       "      <td>151603712</td>\n",
       "      <td>Poly Bridge</td>\n",
       "      <td>7.5</td>\n",
       "      <td>367450</td>\n",
       "      <td>action</td>\n",
       "      <td>multiplayer</td>\n",
       "      <td>more</td>\n",
       "      <td>positive</td>\n",
       "      <td>2</td>\n",
       "    </tr>\n",
       "    <tr>\n",
       "      <th>7</th>\n",
       "      <td>151603712</td>\n",
       "      <td>Left 4 Dead</td>\n",
       "      <td>3.3</td>\n",
       "      <td>500</td>\n",
       "      <td>action</td>\n",
       "      <td>multiplayer</td>\n",
       "      <td>more</td>\n",
       "      <td>positive</td>\n",
       "      <td>2</td>\n",
       "    </tr>\n",
       "    <tr>\n",
       "      <th>8</th>\n",
       "      <td>151603712</td>\n",
       "      <td>Team Fortress 2</td>\n",
       "      <td>2.8</td>\n",
       "      <td>440</td>\n",
       "      <td>action</td>\n",
       "      <td>multiplayer</td>\n",
       "      <td>more</td>\n",
       "      <td>positive</td>\n",
       "      <td>2</td>\n",
       "    </tr>\n",
       "    <tr>\n",
       "      <th>9</th>\n",
       "      <td>151603712</td>\n",
       "      <td>The Banner Saga</td>\n",
       "      <td>2</td>\n",
       "      <td>237990</td>\n",
       "      <td>violent</td>\n",
       "      <td>no_multiplayer</td>\n",
       "      <td>more</td>\n",
       "      <td>positive</td>\n",
       "      <td>2</td>\n",
       "    </tr>\n",
       "  </tbody>\n",
       "</table>\n",
       "</div>"
      ],
      "text/plain": [
       "     User_id                        Game Hours-played  Game_id Game_genre  \\\n",
       "0  151603712  The Elder Scrolls V Skyrim          273    72850    violent   \n",
       "1  151603712                   Fallout 4           87   377160    violent   \n",
       "2  151603712           Fallout New Vegas         12.1    22380    violent   \n",
       "3  151603712               Left 4 Dead 2          8.9      550     action   \n",
       "4  151603712                    HuniePop          8.5   339800    violent   \n",
       "5  151603712               Path of Exile          8.1   238960    violent   \n",
       "6  151603712                 Poly Bridge          7.5   367450     action   \n",
       "7  151603712                 Left 4 Dead          3.3      500     action   \n",
       "8  151603712             Team Fortress 2          2.8      440     action   \n",
       "9  151603712             The Banner Saga            2   237990    violent   \n",
       "\n",
       "    Game_category Game_playtime Game_positive_votes  rating  \n",
       "0  no_multiplayer          more            positive       5  \n",
       "1  no_multiplayer          more            positive       4  \n",
       "2     multiplayer          more            positive       3  \n",
       "3     multiplayer          more            positive       2  \n",
       "4  no_multiplayer          more            positive       2  \n",
       "5     multiplayer          more            positive       2  \n",
       "6     multiplayer          more            positive       2  \n",
       "7     multiplayer          more            positive       2  \n",
       "8     multiplayer          more            positive       2  \n",
       "9  no_multiplayer          more            positive       2  "
      ]
     },
     "execution_count": 42,
     "metadata": {},
     "output_type": "execute_result"
    }
   ],
   "source": [
    "new_index = [ i for i in range(df_users.shape[0])]\n",
    "df_users.index = new_index\n",
    "df_users.head(10)"
   ]
  },
  {
   "cell_type": "code",
   "execution_count": 43,
   "metadata": {},
   "outputs": [
    {
     "data": {
      "text/html": [
       "<div>\n",
       "<style scoped>\n",
       "    .dataframe tbody tr th:only-of-type {\n",
       "        vertical-align: middle;\n",
       "    }\n",
       "\n",
       "    .dataframe tbody tr th {\n",
       "        vertical-align: top;\n",
       "    }\n",
       "\n",
       "    .dataframe thead th {\n",
       "        text-align: right;\n",
       "    }\n",
       "</style>\n",
       "<table border=\"1\" class=\"dataframe\">\n",
       "  <thead>\n",
       "    <tr style=\"text-align: right;\">\n",
       "      <th></th>\n",
       "      <th>User_id</th>\n",
       "      <th>Game</th>\n",
       "      <th>Hours-played</th>\n",
       "      <th>Game_id</th>\n",
       "      <th>Game_genre</th>\n",
       "      <th>Game_category</th>\n",
       "      <th>Game_playtime</th>\n",
       "      <th>Game_positive_votes</th>\n",
       "      <th>rating</th>\n",
       "    </tr>\n",
       "  </thead>\n",
       "  <tbody>\n",
       "    <tr>\n",
       "      <th>0</th>\n",
       "      <td>151603712</td>\n",
       "      <td>The Elder Scrolls V Skyrim</td>\n",
       "      <td>273</td>\n",
       "      <td>72850</td>\n",
       "      <td>violent</td>\n",
       "      <td>no_multiplayer</td>\n",
       "      <td>more</td>\n",
       "      <td>positive</td>\n",
       "      <td>5</td>\n",
       "    </tr>\n",
       "    <tr>\n",
       "      <th>1</th>\n",
       "      <td>151603712</td>\n",
       "      <td>Fallout 4</td>\n",
       "      <td>87</td>\n",
       "      <td>377160</td>\n",
       "      <td>violent</td>\n",
       "      <td>no_multiplayer</td>\n",
       "      <td>more</td>\n",
       "      <td>positive</td>\n",
       "      <td>4</td>\n",
       "    </tr>\n",
       "    <tr>\n",
       "      <th>2</th>\n",
       "      <td>151603712</td>\n",
       "      <td>Fallout New Vegas</td>\n",
       "      <td>12.1</td>\n",
       "      <td>22380</td>\n",
       "      <td>violent</td>\n",
       "      <td>multiplayer</td>\n",
       "      <td>more</td>\n",
       "      <td>positive</td>\n",
       "      <td>3</td>\n",
       "    </tr>\n",
       "    <tr>\n",
       "      <th>3</th>\n",
       "      <td>151603712</td>\n",
       "      <td>Left 4 Dead 2</td>\n",
       "      <td>8.9</td>\n",
       "      <td>550</td>\n",
       "      <td>action</td>\n",
       "      <td>multiplayer</td>\n",
       "      <td>more</td>\n",
       "      <td>positive</td>\n",
       "      <td>2</td>\n",
       "    </tr>\n",
       "    <tr>\n",
       "      <th>4</th>\n",
       "      <td>151603712</td>\n",
       "      <td>HuniePop</td>\n",
       "      <td>8.5</td>\n",
       "      <td>339800</td>\n",
       "      <td>violent</td>\n",
       "      <td>no_multiplayer</td>\n",
       "      <td>more</td>\n",
       "      <td>positive</td>\n",
       "      <td>2</td>\n",
       "    </tr>\n",
       "  </tbody>\n",
       "</table>\n",
       "</div>"
      ],
      "text/plain": [
       "     User_id                        Game Hours-played  Game_id Game_genre  \\\n",
       "0  151603712  The Elder Scrolls V Skyrim          273    72850    violent   \n",
       "1  151603712                   Fallout 4           87   377160    violent   \n",
       "2  151603712           Fallout New Vegas         12.1    22380    violent   \n",
       "3  151603712               Left 4 Dead 2          8.9      550     action   \n",
       "4  151603712                    HuniePop          8.5   339800    violent   \n",
       "\n",
       "    Game_category Game_playtime Game_positive_votes  rating  \n",
       "0  no_multiplayer          more            positive       5  \n",
       "1  no_multiplayer          more            positive       4  \n",
       "2     multiplayer          more            positive       3  \n",
       "3     multiplayer          more            positive       2  \n",
       "4  no_multiplayer          more            positive       2  "
      ]
     },
     "execution_count": 43,
     "metadata": {},
     "output_type": "execute_result"
    }
   ],
   "source": [
    "df_users.head()"
   ]
  },
  {
   "cell_type": "code",
   "execution_count": 44,
   "metadata": {},
   "outputs": [],
   "source": [
    "df_users.to_csv('Users_games_dataset.csv', index=False)"
   ]
  }
 ],
 "metadata": {
  "kernelspec": {
   "display_name": "Python 3 (ipykernel)",
   "language": "python",
   "name": "python3"
  },
  "language_info": {
   "codemirror_mode": {
    "name": "ipython",
    "version": 3
   },
   "file_extension": ".py",
   "mimetype": "text/x-python",
   "name": "python",
   "nbconvert_exporter": "python",
   "pygments_lexer": "ipython3",
   "version": "3.8.5"
  }
 },
 "nbformat": 4,
 "nbformat_minor": 4
}
